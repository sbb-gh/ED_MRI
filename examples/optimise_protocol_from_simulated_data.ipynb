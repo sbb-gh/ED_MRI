{
 "cells": [
  {
   "cell_type": "code",
   "execution_count": null,
   "metadata": {},
   "outputs": [],
   "source": [
    "# TODOS\n",
    "# Add Rician objective function for LSQ fitting.\n",
    "# rewrite for experiment"
   ]
  },
  {
   "cell_type": "markdown",
   "metadata": {},
   "source": [
    "\"\"\"\n",
    "(c) Stefano B. Blumberg and Paddy J. Slator, do not redistribute or modify\n",
    "\n",
    "Code to replicate the ADC experiment (alongside matlab code - maybe translate to python?) <Add paper link>\n",
    "\n",
    "Overview for cells:\n",
    "    - Choose data size splits 2\n",
    "    - Generate data examples 3-A/B/C\n",
    "    - Data format for JOFSTO 4\n",
    "    - Option to pass data directly, or save to disk and load 5-A/B\n",
    "    - JOFSTO hyperparameters 6,7,8\n",
    "\"\"\""
   ]
  },
  {
   "cell_type": "code",
   "execution_count": null,
   "metadata": {},
   "outputs": [],
   "source": [
    "########## (1)\n",
    "# Import modules, see requirements.txt for jofsto requirements, set global seed\n",
    "\n",
    "import numpy as np\n",
    "import os\n",
    "import sys\n",
    "sys.path.append(os.path.abspath('..'))\n",
    "import os, yaml \n",
    "from jofsto_code.jofsto_main import return_argparser, run\n",
    "\n",
    "import matplotlib.pyplot as plt\n",
    "\n",
    "np.random.seed(0)  # Random seed for entire script"
   ]
  },
  {
   "cell_type": "code",
   "execution_count": null,
   "metadata": {},
   "outputs": [],
   "source": [
    "#Directories and filenames to save data \n",
    "\n",
    "#REPLACE WITH LOCATION OF JOFSTO INSTALLATION\n",
    "basedir = '/Users/paddyslator/python/ED_MRI/'\n",
    "\n",
    "#REPLACE WITH PATH TO SIMULATION GROUND TRUTH PARAMETERS\n",
    "#array is n_voxels by n_model_parameters \n",
    "simulation_gt_parameters_path = basedir + 'output/adc_simulations/adc_simulations_n_train_1000_SNR_20_parameters_gt_full.npy'\n",
    "\n",
    "#REPLACE WITH PATH TO SIMULATION GROUND TRUTH SIGNALS \n",
    "#THESE SHOULD BE WITH \"SUPERDESIGN\" ACQUISITION - HIGHLY OVERSAMPLING THE ACQUISITION PARAMETER SPACE\n",
    "#array is n_voxels by n_acquisitions\n",
    "simulation_gt_signals_path = basedir + 'output/adc_simulations/adc_simulations_n_train_1000_SNR_20_signals_super_full.npy'\n",
    "\n",
    "#REPLACE WITH PATH TO SUPER-DESIGN ACQUISITION PARAMETERS\n",
    "#array is n_acquisitions by n_acqusition_parameters, e.g. 288 (n_acquisitions) by 4 (gx, gy, gz, b) for HCP data\n",
    "acq_params_super_signals_path = basedir + 'output/adc_simulations/adc_simulations_n_train_1000_SNR_20_acq_params_super.npy'\n",
    "\n",
    "\n",
    "#load them\n",
    "parameters = np.load(simulation_gt_parameters_path)\n",
    "signals = np.load(simulation_gt_signals_path)\n",
    "acq_params_super = np.load(acq_params_super_signals_path)\n",
    "\n"
   ]
  },
  {
   "cell_type": "code",
   "execution_count": null,
   "metadata": {},
   "outputs": [],
   "source": [
    "########## (2)\n",
    "# Data split sizes\n",
    "\n",
    "n_samples = np.shape(signals)[0] #get the total number of simulated samples, reduce for faster training speed \n",
    "\n",
    "n_train = 8 * n_samples // 10 # No. training voxels\n",
    "n_val = n_samples // 10  # No. validations set voxels\n",
    "n_test = n_samples // 10  # No. test set voxels\n",
    "\n",
    "\n",
    "#choose the size of the super-design\n",
    "C_bar = 192\n"
   ]
  },
  {
   "cell_type": "code",
   "execution_count": null,
   "metadata": {},
   "outputs": [],
   "source": [
    "########## (4)\n",
    "# Load data into JOFSTO format\n",
    "\n",
    "# Data in JOFSTO format, \\bar{C} measurements, M target regresors\n",
    "data = dict(\n",
    "    train=signals[0:n_train,:],  # Shape n_train x \\bar{C}\n",
    "    train_tar=parameters[0:n_train,:],  # Shape n_train x M\n",
    "    val=signals[n_train:(n_train + n_val),:],  # Shape n_val x \\bar{C}\n",
    "    val_tar=parameters[n_train:(n_train + n_val),:],  # Shape n_val x M\n",
    "    test=signals[(n_train + n_val):(n_train + n_val + n_test),:],  # Shape n_test x \\bar{C}\n",
    "    test_tar=parameters[(n_train + n_val):(n_train + n_val + n_test),:],  # Shape n_test x M\n",
    ")\n",
    "\n",
    "#with open(os.path.dirname(__file__) + \"/base.yaml\", \"r\") as f:\n",
    "#with open(\"/home/blumberg/Bureau/z_Automated_Measurement/Code/base.yaml\", \"r\") as f:\n",
    "with open(os.path.join(basedir, \"base.yaml\"), \"r\") as f:\n",
    "    jofsto_args =  yaml.safe_load(f)"
   ]
  },
  {
   "cell_type": "code",
   "execution_count": null,
   "metadata": {},
   "outputs": [],
   "source": [
    "########## (5-A)\n",
    "# Option to save data to disk, and JOFSTO load\n",
    "    \n",
    "data_fil = os.path.splitext(simulation_gt_signals_path)[0] + '_jofsto_processed_data.npy'\n",
    "#data_fil = \"/home/blumberg/Bureau/z_Automated_Measurement/Output/paddy/adc_simulations.npy\"\n",
    "#data_fil = \"/Users/paddyslator/python/ED_MRI/adc_simulations.npy\"  # Add path to save file\n",
    "np.save(data_fil, data)\n",
    "print(\"Saving data as\", data_fil)\n",
    "pass_data = None\n",
    "\n",
    "jofsto_args[\"--data_fil\"] = data_fil\n",
    "\n",
    "\n",
    "########## (5-B)\n",
    "# Option to pass data to JOFSTO directly\n",
    "\n",
    "pass_data = data"
   ]
  },
  {
   "cell_type": "code",
   "execution_count": null,
   "metadata": {},
   "outputs": [],
   "source": [
    "########## (6)\n",
    "# Simplest version of JOFSTO, modifying the most important hyperparameters\n",
    "\n",
    "\n",
    "# Decreasing feature subsets sizes for JOFSTO to consider\n",
    "jofsto_args[\"jofsto_train_eval\"][\"C_i_values\"] = [C_bar, C_bar // 2, C_bar // 4, C_bar // 8, C_bar // 16]\n",
    "\n",
    "# Feature subset sizess for JOFSTO evaluated on test data\n",
    "jofsto_args[\"C_i_eval\"] = [C_bar // 2, C_bar // 4, C_bar // 8, C_bar // 16]\n",
    "\n",
    "# Scoring net C_bar -> num_units_score[0] -> num_units_score[1] ... -> C_bar units\n",
    "jofsto_args[\"num_units_score\"] = [1000, 1000]\n",
    "\n",
    "# Task net C_bar -> num_units_task[0] -> num_units_task[1] ... -> M units\n",
    "jofsto_args[\"num_units_task\"] = [1000, 1000]\n",
    "\n",
    "jofsto_args[\"out_base\"] =  os.path.join(basedir, \"test1\")  #\"/Users/paddyslator/python/ED_MRI/test1\" #\"/home/blumberg/Bureau/z_Automated_Measurement/Output/paddy\"\n",
    "jofsto_args[\"proj_name\"] = \"adc\"\n",
    "jofsto_args[\"run_name\"] = \"test\"\n",
    "\n",
    "jofsto_args[\"save_output\"] = True\n",
    "\n",
    "#jofsto_args[\"total_epochs\"] = 1000\n",
    "\n",
    "\n",
    "JOFSTO_output = run(args=jofsto_args, pass_data=pass_data)\n"
   ]
  },
  {
   "cell_type": "code",
   "execution_count": null,
   "metadata": {},
   "outputs": [],
   "source": [
    "#load the FULL JOFSTO output\n",
    "JOFSTO_output = np.load(os.path.join(basedir,jofsto_args[\"out_base\"],jofsto_args[\"proj_name\"],\"results\", jofsto_args[\"run_name\"] + \"_all.npy\"), allow_pickle=True).item()\n",
    "\n",
    "\n"
   ]
  },
  {
   "cell_type": "code",
   "execution_count": null,
   "metadata": {},
   "outputs": [],
   "source": [
    "#extract some useful parameters fom the jofsto output\n",
    "#final subset index\n",
    "C_last = JOFSTO_output[\"C_i_eval\"][-1]\n",
    "#index of the chosen acquisition parameters\n",
    "acq_params_JOFSTO_index = JOFSTO_output[C_last]['measurements']\n",
    "#chosen acquisition parameters\n",
    "acq_params_JOFSTO = acq_params_super[acq_params_JOFSTO_index]\n",
    "\n",
    "print('JOFSTO chosen acquisition parameters are: ' + str(acq_params_JOFSTO))\n"
   ]
  },
  {
   "cell_type": "code",
   "execution_count": null,
   "metadata": {},
   "outputs": [],
   "source": [
    "#plot the signals at the super design and the JOFSTO chosen for a single voxel\n",
    "#\n",
    "\n",
    "#if the number of acquisition parameters is bigger than one, need to choose which one to plot on the x axis\n",
    "if (acq_params_super.ndim > 1): \n",
    "    if (acq_params_super.shape[1] > 1):\n",
    "        acq_param_to_plot = 1\n",
    "        acq_params_super_to_plot = acq_params_super[:,acq_param_to_plot]\n",
    "        acq_params_JOFSTO_to_plot = acq_params_JOFSTO[:,acq_param_to_plot]\n",
    "else:\n",
    "    acq_params_super_to_plot = acq_params_super\n",
    "    acq_params_JOFSTO_to_plot = acq_params_JOFSTO\n",
    "    \n",
    "voxel_to_plot = 100\n",
    "\n",
    "\n",
    "plt.plot(acq_params_super_to_plot, signals[voxel_to_plot,:], 'x')\n",
    "plt.plot(acq_params_JOFSTO_to_plot, signals[voxel_to_plot,acq_params_JOFSTO_index], 'o')\n",
    "\n",
    "plt.title('signals from voxel ' + str(100))\n",
    "plt.legend(('Super design', 'JOFSTO chosen'))\n",
    "plt.ylabel('signal')\n",
    "plt.xlabel('acquisition parameter')\n"
   ]
  },
  {
   "cell_type": "code",
   "execution_count": null,
   "metadata": {},
   "outputs": [],
   "source": [
    "#TO DO: make a function that can take new data as input and apply the JOFSTO NN to estimate the model parameters"
   ]
  },
  {
   "cell_type": "code",
   "execution_count": null,
   "metadata": {},
   "outputs": [],
   "source": [
    "########## (7)\n",
    "# Modify more JOFSTO hyperparameters, less important, may change results\n"
   ]
  },
  {
   "cell_type": "code",
   "execution_count": null,
   "metadata": {},
   "outputs": [],
   "source": [
    "\n",
    "########## (8)\n",
    "# Deep learning training hyperparameters for inner loop"
   ]
  }
 ],
 "metadata": {
  "kernelspec": {
   "display_name": "Python 3 (ipykernel)",
   "language": "python",
   "name": "python3"
  },
  "language_info": {
   "codemirror_mode": {
    "name": "ipython",
    "version": 3
   },
   "file_extension": ".py",
   "mimetype": "text/x-python",
   "name": "python",
   "nbconvert_exporter": "python",
   "pygments_lexer": "ipython3",
   "version": "3.10.6"
  },
  "vscode": {
   "interpreter": {
    "hash": "615b1a4c774898c50e50cbbdb62428ce29922c4c76c6af0df5092a4f94b8ccac"
   }
  }
 },
 "nbformat": 4,
 "nbformat_minor": 2
}
