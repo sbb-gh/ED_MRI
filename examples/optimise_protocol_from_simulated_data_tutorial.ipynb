{
 "cells": [
  {
   "cell_type": "markdown",
   "metadata": {},
   "source": [
    "# Tutorial: Optimising a Quantitative MRI Protocol Using Simulated Data\n",
    "\n",
    "This notebook demonstrates how to use TADRED to optimise a quantitative or diffusion MRI protocol using simulated data. The code can be adapted to optimise protocols for your chosen model, whether it's an analytical model with an equation or another type.\n",
    "\n",
    "To use your own model, simulate data using it while adhering to the key caveats outlined throughout this notebook.\n",
    "\n",
    "### Key User-Defined Quantities:\n",
    "\n",
    "1. **Protocol Length (`n_volumes_opt`)**: Define the number of acquisition parameters or acquired volumes for your optimised protocol.\n",
    "\n",
    "2. **Number of Iterations (`n_iterations_tadred`)**: Set the number of iterations that TADRED will use during training. During each iteration, TADRED halves the size of the acquisition protocol. The default is 5, which typically works well.\n",
    "\n",
    "3. **Number of Training Voxels (`n_train`)**: Specify the number of training voxels. Reduce this number for faster training or increase it for more accuracy.\n",
    "\n",
    "### Simulation Requirements:\n",
    "\n",
    "1. **Superdesign Size**: Parameters 1 and 2 determine the size of the superdesign required for simulations. In this tutorial, TADRED will sequentially halve the number of subsets. For example, with `n_volumes_opt=20` and `n_iterations_tadred=5`, the subsetting will be `[320, 160, 80, 40, 20]`. Therefore, the superdesign acquisition should include 320 acquisitions. The acquisition parameters of the superdesign should span the entire acquisition space from which optimal parameters will be selected. For instance, if your scanner has a maximum b-value of 3000, the superdesign might include 320 b-values equally spaced between 0 and 3000. This principle generalises to higher dimensions.\n",
    "\n",
    "2. **Simulated Voxels**: Parameter 3 defines the number of simulated voxels needed. If `n_train=1000`, then 1200 voxels are required in total, as 100 voxels are allocated for the validation dataset and 100 for the test dataset.\n",
    "\n",
    "Cell X provides an example of how to run the appropriate simulations for two simple models.\n",
    "\n",
    "(c) Stefano B. Blumberg and Paddy J. Slator"
   ]
  },
  {
   "cell_type": "markdown",
   "metadata": {},
   "source": [
    "### Cell 1: import packages and path \n",
    "Edit out_base to define where your data is, and/or where it will be stored."
   ]
  },
  {
   "cell_type": "code",
   "execution_count": 1,
   "metadata": {},
   "outputs": [],
   "source": [
    "########## (1)\n",
    "# See requirements.txt for tadred requirements, make sure things are in the path, set global seed\n",
    "\n",
    "import numpy as np\n",
    "import matplotlib.pyplot as plt\n",
    "from pathlib import Path\n",
    "\n",
    "from tadred import tadred_main, utils\n",
    "\n",
    "# Replace below with the directory where the data is, or where you want to save the data and results \n",
    "#out_base: str = '/home/blumberg/Bureau/z_Automated_Measurement/Output/journal_paper_tst' # ''\n",
    "out_base: str = '/Users/paddyslator/python/ED/ED_MRI/examples'\n",
    "\n",
    "Path(out_base).mkdir(parents=True, exist_ok=True)\n",
    "\n",
    "# If TADRED is installed in another directory, add the location tobelow\n",
    "# TADRED_dir: str = ''\n",
    "# sys.path.append(TADRED_dir)\n",
    "\n",
    "np.random.seed(0)  # Random seed for entire script"
   ]
  },
  {
   "cell_type": "markdown",
   "metadata": {},
   "source": [
    "### Cell 2: set key user-defined quantities\n",
    "* Edit n_volumes_opt_protocol to define the number of volumes in the desired optimized protocol.\n",
    "* (Optional) Edit n_iterations_tadred to choose the number of TADRED iterations\n",
    "* (Optional) Edit n_train_voxels to set the number of training voxels in the simulations."
   ]
  },
  {
   "cell_type": "code",
   "execution_count": 2,
   "metadata": {},
   "outputs": [
    {
     "name": "stdout",
     "output_type": "stream",
     "text": [
      "Your user-defined input parameters are:\n",
      "----------------------------------------------------------------------------------------------------\n",
      "Length of desired optimized protocol: 20\n",
      "Number of TADRED iterations: 5\n",
      "Number of training voxels: 10000\n",
      "====================================================================================================\n",
      "Your user-defined input parameters have been used to calculate the following values:\n",
      "----------------------------------------------------------------------------------------------------\n",
      "Size of the required superdesign for the simulations: 320\n",
      "Number of validation voxels: 1000\n",
      "Number of test voxels: 1000\n",
      "Total number of simulated voxels: 12000\n"
     ]
    }
   ],
   "source": [
    "# Define the number of acquisition volumes for the optimised protocol and the number TADRED iterations.\n",
    "# Recall from paper we train on iteratively smaller volume sizes across a loop t = 1, ..., T\n",
    "# This determines the length of the superdesign required for the training set, e.g. if n_iterations_tadred\n",
    "# is 5 then the superdesign needs to be 16 times larger than the number of volumes in the optimised protocol\n",
    "\n",
    "#these are the key user-defined options\n",
    "n_volumes_opt_protocol = 20 #number of volumes in the desired optimized protocol\n",
    "n_iterations_tadred = 5 # T in paper\n",
    "n_train_voxels = 10**4  # Reduce for faster training speed\n",
    "\n",
    "print(\"Your user-defined input parameters are:\")\n",
    "print(\"-\" * 100)  \n",
    "print(f\"Length of desired optimized protocol: {n_volumes_opt_protocol}\")\n",
    "print(f\"Number of TADRED iterations: {n_iterations_tadred}\")\n",
    "print(f\"Number of training voxels: {n_train_voxels}\")\n",
    "\n",
    "\n",
    "# Calculate the required length of the superdesign, this depends on the number of \n",
    "# this depends on the number of TADRED iterations - which are always halvings - that will be done in tadred\n",
    "Vbar = n_volumes_opt_protocol * 2**(n_iterations_tadred - 1) #\n",
    "\n",
    "#calculate the required data split sizes\n",
    "n_val_voxels = n_train_voxels // 10\n",
    "n_test_voxels = n_train_voxels // 10\n",
    "n_samples = n_train_voxels + n_val_voxels + n_test_voxels  # total number of samples to simulate\n",
    "\n",
    "print(\"=\" * 100) \n",
    "print(\"Your user-defined input parameters have been used to calculate the following values:\")\n",
    "print(\"-\" * 100) \n",
    "print(f\"Size of the required superdesign for the simulations: {Vbar}\")\n",
    "print(f\"Number of validation voxels: {n_val_voxels}\")\n",
    "print(f\"Number of test voxels: {n_test_voxels}\")\n",
    "print(f\"Total number of simulated voxels: {n_samples}\")\n"
   ]
  },
  {
   "cell_type": "markdown",
   "metadata": {},
   "source": [
    "### Cell 3: choose whether to use your own simulated data \n",
    "\n",
    "* Set use_own_simulated_data to True to use your own simulated data  \n",
    "* Set use_own_simulated_data to False and this notebook will generate example simulated data  "
   ]
  },
  {
   "cell_type": "code",
   "execution_count": 3,
   "metadata": {},
   "outputs": [],
   "source": [
    "#use_own_simulated_data: bool = False #the notebook will create example simulated data\n",
    "use_own_simulated_data: bool = True #the notebook will use your own simulated data\n"
   ]
  },
  {
   "cell_type": "markdown",
   "metadata": {},
   "source": [
    "### Cell 4: guidelines for generating your own simulated data \n"
   ]
  },
  {
   "cell_type": "code",
   "execution_count": 4,
   "metadata": {},
   "outputs": [
    {
     "name": "stdout",
     "output_type": "stream",
     "text": [
      "\n",
      "    To run TADRED, you need to simulate the following data:\n",
      "\n",
      "    1. **Ground truth parameters** (size: n_samples x n_model_parameters)\n",
      "       - n_samples: 12000\n",
      "       - n_model_parameters: The number of parameters in your model.\n",
      "\n",
      "    2. **Simulated ground truth signals** using the superdesign acquisition scheme (size: n_samples x Vbar)\n",
      "       - The superdesign acquisition scheme densely samples the acquisition parameter space, generating Vbar acquired measurements.\n",
      "       - Vbar (number of measurements): 320\n",
      "\n",
      "    3. **Acquisition parameters of the superdesign** (size: Vbar x n_acquisition_parameters)\n",
      "       - n_acquisition_parameters: The number of dimensions in the acquisition parameter space (e.g., 4 [gx, gy, gz, b] for HCP data).\n",
      "\n",
      "    Save these datasets as `.npy` files in a dedicated directory within **out_base**:\n",
      "       - out_base directory: /Users/paddyslator/python/ED/ED_MRI/examples\n",
      "       - The subdirectory should match the project name (proj_name), as specified in the cell below.\n",
      "\n",
      "    Suggested filenames for the files are:\n",
      "       - Ground truth parameters: `parameters_gt_full.npy`\n",
      "       - Simulated signals: `signals_super_full.npy`\n",
      "       - Acquisition parameters: `acq_params_super.npy`\n",
      "    \n"
     ]
    }
   ],
   "source": [
    "#If you are using your own simulated data, follow the guidelines to \n",
    "#generate simulated data that is appropriate for input to TADRED\n",
    "\n",
    "# TODO this should be in the introduction where we define what the data looks like.  Or in a different repo.\n",
    "    \n",
    "if use_own_simulated_data:\n",
    "    print(f\"\"\"\n",
    "    To run TADRED, you need to simulate the following data:\n",
    "\n",
    "    1. **Ground truth parameters** (size: n_samples x n_model_parameters)\n",
    "       - n_samples: {n_samples}\n",
    "       - n_model_parameters: The number of parameters in your model.\n",
    "\n",
    "    2. **Simulated ground truth signals** using the superdesign acquisition scheme (size: n_samples x Vbar)\n",
    "       - The superdesign acquisition scheme densely samples the acquisition parameter space, generating Vbar acquired measurements.\n",
    "       - Vbar (number of measurements): {Vbar}\n",
    "\n",
    "    3. **Acquisition parameters of the superdesign** (size: Vbar x n_acquisition_parameters)\n",
    "       - n_acquisition_parameters: The number of dimensions in the acquisition parameter space (e.g., 4 [gx, gy, gz, b] for HCP data).\n",
    "\n",
    "    Save these datasets as `.npy` files in a dedicated directory within **out_base**:\n",
    "       - out_base directory: {out_base}\n",
    "       - The subdirectory should match the project name (proj_name), as specified in the cell below.\n",
    "\n",
    "    Suggested filenames for the files are:\n",
    "       - Ground truth parameters: `parameters_gt_full.npy`\n",
    "       - Simulated signals: `signals_super_full.npy`\n",
    "       - Acquisition parameters: `acq_params_super.npy`\n",
    "    \"\"\")\n",
    "else:\n",
    "    print(\"Run the cell below to simulate data suitable for TADRED.\")\n",
    "\n"
   ]
  },
  {
   "cell_type": "markdown",
   "metadata": {},
   "source": [
    "### Cell 5: Add paths to your own simulated data \n",
    "* Set proj_name to the subdirectory where you saved your simulated dataset\n",
    "* (Optional) If you used different filenames to those suggested above, change simulation_gt_parameters_path, simulation_gt_signals_path, and acq_params_super_signals_path."
   ]
  },
  {
   "cell_type": "code",
   "execution_count": 5,
   "metadata": {},
   "outputs": [],
   "source": [
    "#If you are using your own simulated data, then update the filenames below \n",
    "if use_own_simulated_data:\n",
    "    \n",
    "    # Replace with name of the data directory, which needs to be in out_base\n",
    "    proj_name: str = 't1inv_simulations_n_train_voxels_10000_SNR_20'\n",
    "    # Replace with name of the directory where the data directory is\n",
    "    proj_dir: str = Path(out_base, proj_name)\n",
    "\n",
    "    # REPLACE WITH PATH TO SIMULATION GROUND TRUTH PARAMETERS\n",
    "    # Saved array should be array n_samples by n_model_parameters     \n",
    "    simulation_gt_parameters_path = Path(proj_dir,'parameters_gt_full.npy')\n",
    "\n",
    "    # REPLACE WITH PATH TO SIMULATION GROUND TRUTH SIGNALS WITH \"SUPER-DESIGN\" ACQUISITION - HIGHLY OVERSAMPLING THE ACQUISITION PARAMETER SPACE\n",
    "    # Array is n_samples by V_bar\n",
    "    simulation_gt_signals_path = Path(proj_dir, 'signals_super_full.npy')\n",
    "\n",
    "    # REPLACE WITH PATH TO SUPER-DESIGN ACQUISITION PARAMETERS\n",
    "    # acq_params_super - Vbar by n_acqusition_parameters length array containing the acquisition parameters of the superdesign\n",
    "    # Array is Vbar by n_acqusition_parameters, e.g. n_acqusition_parameters is 4 (gx, gy, gz, b) for HCP data\n",
    "    acq_params_super_signals_path = Path(proj_dir, 'acq_params_super.npy')\n",
    "    "
   ]
  },
  {
   "cell_type": "markdown",
   "metadata": {},
   "source": [
    "### Cell 6: Load simulated data or simulate data"
   ]
  },
  {
   "cell_type": "code",
   "execution_count": 6,
   "metadata": {},
   "outputs": [],
   "source": [
    "#if using your own simulated data it gets loaded here.\n",
    "if use_own_simulated_data:   \n",
    "    # Load the files\n",
    "    parameters = np.load(simulation_gt_parameters_path)\n",
    "    signals_super = np.load(simulation_gt_signals_path)\n",
    "    acq_params_super = np.load(acq_params_super_signals_path)\n",
    "\n",
    "    \n",
    "#or otherwise generate some simple simulated data\n",
    "if not use_own_simulated_data:\n",
    "# Define some models and generate data\n",
    "# Data that will be generated is:\n",
    "#   parameters - n_samples by n_model_parameters  array containing the ground truth model parameters, where n_parameters is the number of parameters in your model\n",
    "#   signals - n_samples by Vbar array containing the corresponding simulated signals from the model \n",
    "#   acq_params_super - Vbar by n_acqusition_parameters length array containing the acquisition parameters of the superdesign\n",
    "\n",
    "    model_name = 't1inv' # T1 inversion recovery model\n",
    "    # model_name = \"adc\" # ADC model\n",
    "    SNR: int = 20\n",
    "    proj_name = f\"{model_name}_simulations_n_train_voxels_{n_train_voxels}_SNR_{SNR}\"\n",
    "    proj_dir = Path(out_base, proj_name)\n",
    "    Path.mkdir(proj_dir, exist_ok=True, parents=True)\n",
    "\n",
    "        \n",
    "    if model_name == \"adc\":\n",
    "        def model(D, bvals):\n",
    "            signals = np.exp(-bvals * D)\n",
    "            return signals\n",
    "    \n",
    "        # min/max parameter values\n",
    "        minD = 0.1\n",
    "        maxD = 3\n",
    "    \n",
    "        # Simulate parameter values\n",
    "        parameters = np.random.uniform(low=minD, high=maxD, size=(n_samples, 1))\n",
    "    \n",
    "        ### Generate data using the model\n",
    "    \n",
    "        # Make super design\n",
    "        maxb = 5\n",
    "        minb = 0\n",
    "        acq_params_super = np.linspace(minb, maxb, Vbar)\n",
    "    \n",
    "        # Generate data\n",
    "        raw_signals = np.zeros((n_samples, Vbar), dtype=np.float32)\n",
    "        for i in range(0, n_samples):\n",
    "            raw_signals[i, :] = model(parameters[i], acq_params_super)\n",
    "    \n",
    "    elif model_name == \"t1inv\":\n",
    "    \n",
    "        def model(T1, ti, tr):\n",
    "            signals = abs(1 - (2 * np.exp(-ti / T1)) + np.exp(-tr / T1))\n",
    "            return signals\n",
    "    \n",
    "        # min/max parameter values\n",
    "        minT1 = 0.1\n",
    "        maxT1 = 7\n",
    "        # Simulate parameter values\n",
    "        parameters = np.random.uniform(low=minT1, high=maxT1, size=(n_samples, 1))\n",
    "        \n",
    "        # Make the super design\n",
    "        tr = 7  # repetition time\n",
    "        maxti = tr\n",
    "        minti = 0.1\n",
    "        acq_params_super = np.linspace(minti, maxti, Vbar)\n",
    "    \n",
    "        # Generate the data\n",
    "        raw_signals = np.zeros((n_samples, Vbar), dtype=np.float32)\n",
    "        for i in range(0, n_samples):\n",
    "            raw_signals[i, :] = model(parameters[i], acq_params_super, tr)\n",
    "\n",
    "    # Add Rician noise to the data\n",
    "    def add_noise(data, scale=0.05):\n",
    "        data_real = data + np.random.normal(scale=scale, size=np.shape(data))\n",
    "        data_imag = np.random.normal(scale=scale, size=np.shape(data))\n",
    "        data_noisy = np.sqrt(data_real**2 + data_imag**2)\n",
    "    \n",
    "        return data_noisy\n",
    "    \n",
    "    signals_super = add_noise(raw_signals, 1 / SNR)\n",
    "\n",
    "    #save the simulated signals\n",
    "    np.save(Path(proj_dir, \"parameters_gt_full.npy\"), parameters)\n",
    "    np.save(Path(proj_dir, \"signals_super_full.npy\"), signals_super)\n",
    "    np.save(Path(proj_dir, \"acq_params_super.npy\"), acq_params_super)\n",
    "    \n"
   ]
  },
  {
   "cell_type": "markdown",
   "metadata": {},
   "source": [
    "### Cell 7: Put data into TADRED format"
   ]
  },
  {
   "cell_type": "code",
   "execution_count": 7,
   "metadata": {},
   "outputs": [],
   "source": [
    "# Data in TADRED format, \\bar{V} volumes, M target regresors\n",
    "data = dict(\n",
    "    train=signals_super[0:n_train_voxels, :],  # Shape n_train_voxels x \\bar{C}\n",
    "    train_tar=parameters[0:n_train_voxels, :],  # Shape n_train_voxels x M\n",
    "    val=signals_super[n_train_voxels : (n_train_voxels + n_val_voxels), :],  # Shape n_val_voxels x \\bar{C}\n",
    "    val_tar=parameters[n_train_voxels : (n_train_voxels + n_val_voxels), :],  # Shape n_val_voxels x M\n",
    "    test=signals_super[(n_train_voxels + n_val_voxels): , :],  # Shape n_test_voxels x \\bar{C}\n",
    "    test_tar=parameters[(n_train_voxels + n_val_voxels):, :],  # Shape n_test_voxels x M\n",
    ")\n",
    "\n",
    "for key, value in data.items():\n",
    "    data[key] = value.astype(np.float32)\n",
    "\n",
    "# Save data to disk -- optional\n",
    "np.save(Path(proj_dir, 'data'), data)    \n"
   ]
  },
  {
   "cell_type": "markdown",
   "metadata": {},
   "source": [
    "### Cell 8: Run TADRED"
   ]
  },
  {
   "cell_type": "code",
   "execution_count": 8,
   "metadata": {},
   "outputs": [
    {
     "name": "stderr",
     "output_type": "stream",
     "text": [
      "INFO:tadred.data_processing:concatenated ['train'] on voxel dim\n",
      "INFO:tadred.data_processing:Target data found\n",
      "INFO:tadred.data_processing:concatenated ['val'] on voxel dim\n",
      "INFO:tadred.data_processing:Target data found\n",
      "INFO:tadred.data_processing:concatenated ['test'] on voxel dim\n",
      "INFO:tadred.data_processing:Target data found\n",
      "INFO:tadred.tadred_main:data_norm:\n",
      "  data_fil: null\n",
      "  data_train_subjs:\n",
      "  - train\n",
      "  data_val_subjs:\n",
      "  - val\n",
      "  data_test_subjs:\n",
      "  - test\n",
      "  data_normalization: original-measurement\n",
      "output:\n",
      "  out_base: /Users/paddyslator/python/ED/ED_MRI/examples\n",
      "  proj_name: t1inv_simulations_n_train_voxels_10000_SNR_20\n",
      "  run_name: test\n",
      "network:\n",
      "  num_units_score:\n",
      "  - 1000\n",
      "  - 1000\n",
      "  num_units_task:\n",
      "  - 1000\n",
      "  - 1000\n",
      "  score_activation: doublesigmoid\n",
      "tadred_train_eval:\n",
      "  feature_set_sizes_Ci:\n",
      "  - 320\n",
      "  - 160\n",
      "  - 80\n",
      "  - 40\n",
      "  - 20\n",
      "  feature_set_sizes_evaluated:\n",
      "  - 160\n",
      "  - 80\n",
      "  - 40\n",
      "  - 20\n",
      "  epochs: 50\n",
      "  epochs_fix_sigma: 25\n",
      "  epochs_decay_sigma: 10\n",
      "  epochs_decay: 10\n",
      "train_pytorch:\n",
      "  dataloader_params:\n",
      "    batch_size: 1500\n",
      "    num_workers: 0\n",
      "  optimizer_params:\n",
      "    lr: 0.0001\n",
      "other_options:\n",
      "  random_seed_value: 0\n",
      "  no_gpu: false\n",
      "  save_output: true\n",
      "\n",
      "INFO:tadred.utils:Random seed is 0\n",
      "INFO:tadred.trainer:Run training on: cpu\n",
      "INFO:tadred.trainer:TADREDNet(\n",
      "  (score_net): FCN(\n",
      "    (layers): Sequential(\n",
      "      (0): Linear(in_features=320, out_features=1000, bias=True)\n",
      "      (1): ReLU()\n",
      "      (2): Linear(in_features=1000, out_features=1000, bias=True)\n",
      "      (3): ReLU()\n",
      "      (4): Linear(in_features=1000, out_features=320, bias=True)\n",
      "      (5): Identity()\n",
      "    )\n",
      "  )\n",
      "  (task_net): FCN(\n",
      "    (layers): Sequential(\n",
      "      (0): Linear(in_features=320, out_features=1000, bias=True)\n",
      "      (1): ReLU()\n",
      "      (2): Linear(in_features=1000, out_features=1000, bias=True)\n",
      "      (3): ReLU()\n",
      "      (4): Linear(in_features=1000, out_features=1, bias=True)\n",
      "      (5): Identity()\n",
      "    )\n",
      "  )\n",
      "  (score_activation): Sigmoid()\n",
      "  (downsampling_mult_layer): DownsamplingMultLayer()\n",
      "  (loss_fct): MSELoss()\n",
      ")\n",
      "INFO:tadred.networks:m has 320 ones and 0 zeros\n",
      "INFO:tadred.networks:sigma_mult 1\n",
      "INFO:tadred.networks:Decay: 0.0 measurements in NAS step 1\n"
     ]
    },
    {
     "name": "stdout",
     "output_type": "stream",
     "text": [
      "/Users/paddyslator/python/ED/ED_MRI/examples t1inv_simulations_n_train_voxels_10000_SNR_20\n",
      "Epoch:0 train_loss:9.161 val_loss:4.879 time:0.306\n",
      "Epoch:1 train_loss:3.046 val_loss:1.876 time:0.261\n",
      "Epoch:2 train_loss:1.615 val_loss:1.291 time:0.263\n",
      "Epoch:3 train_loss:1.071 val_loss:0.718 time:0.262\n",
      "Epoch:4 train_loss:0.717 val_loss:0.536 time:0.264\n",
      "Epoch:5 train_loss:0.492 val_loss:0.361 time:0.268\n",
      "Epoch:6 train_loss:0.325 val_loss:0.232 time:0.264\n",
      "Epoch:7 train_loss:0.221 val_loss:0.166 time:0.272\n",
      "Epoch:8 train_loss:0.153 val_loss:0.119 time:0.270\n",
      "Epoch:9 train_loss:0.109 val_loss:0.087 time:0.262\n",
      "Epoch:10 train_loss:0.081 val_loss:0.066 time:0.286\n",
      "Epoch:11 train_loss:0.063 val_loss:0.050 time:0.265\n",
      "Epoch:12 train_loss:0.050 val_loss:0.042 time:0.321\n",
      "Epoch:13 train_loss:0.042 val_loss:0.039 time:0.271\n",
      "Epoch:14 train_loss:0.036 val_loss:0.033 time:0.286\n",
      "Epoch:15 train_loss:0.031 val_loss:0.028 time:0.283\n",
      "Epoch:16 train_loss:0.028 val_loss:0.025 time:0.280\n",
      "Epoch:17 train_loss:0.025 val_loss:0.023 time:0.271\n",
      "Epoch:18 train_loss:0.023 val_loss:0.022 time:0.266\n",
      "Epoch:19 train_loss:0.022 val_loss:0.021 time:0.264\n",
      "Epoch:20 train_loss:0.021 val_loss:0.020 time:0.282\n",
      "Epoch:21 train_loss:0.020 val_loss:0.019 time:0.267\n",
      "Epoch:22 train_loss:0.019 val_loss:0.018 time:0.303\n"
     ]
    },
    {
     "name": "stderr",
     "output_type": "stream",
     "text": [
      "INFO:tadred.networks:Trigger epochs_fix_sigma\n",
      "INFO:tadred.networks:sigma_bar = 0.5*(sigma_bar+sigma_average)\n",
      "INFO:tadred.networks:Decay sigma_mult 0.949999988079071\n"
     ]
    },
    {
     "name": "stdout",
     "output_type": "stream",
     "text": [
      "Epoch:23 train_loss:0.018 val_loss:0.018 time:0.266\n"
     ]
    },
    {
     "name": "stderr",
     "output_type": "stream",
     "text": [
      "INFO:tadred.networks:Decay sigma_mult 0.8999999761581421\n"
     ]
    },
    {
     "name": "stdout",
     "output_type": "stream",
     "text": [
      "Epoch:24 train_loss:0.020 val_loss:0.019 time:0.265\n"
     ]
    },
    {
     "name": "stderr",
     "output_type": "stream",
     "text": [
      "INFO:tadred.networks:Decay sigma_mult 0.8499999642372131\n"
     ]
    },
    {
     "name": "stdout",
     "output_type": "stream",
     "text": [
      "Epoch:25 train_loss:0.019 val_loss:0.019 time:0.269\n"
     ]
    },
    {
     "name": "stderr",
     "output_type": "stream",
     "text": [
      "INFO:tadred.networks:Decay sigma_mult 0.7999999523162842\n"
     ]
    },
    {
     "name": "stdout",
     "output_type": "stream",
     "text": [
      "Epoch:26 train_loss:0.021 val_loss:0.020 time:0.270\n"
     ]
    },
    {
     "name": "stderr",
     "output_type": "stream",
     "text": [
      "INFO:tadred.networks:Decay sigma_mult 0.7499999403953552\n"
     ]
    },
    {
     "name": "stdout",
     "output_type": "stream",
     "text": [
      "Epoch:27 train_loss:0.020 val_loss:0.019 time:0.267\n"
     ]
    },
    {
     "name": "stderr",
     "output_type": "stream",
     "text": [
      "INFO:tadred.networks:Decay sigma_mult 0.6999999284744263\n"
     ]
    },
    {
     "name": "stdout",
     "output_type": "stream",
     "text": [
      "Epoch:28 train_loss:0.021 val_loss:0.020 time:0.263\n"
     ]
    },
    {
     "name": "stderr",
     "output_type": "stream",
     "text": [
      "INFO:tadred.networks:Decay sigma_mult 0.6499999165534973\n"
     ]
    },
    {
     "name": "stdout",
     "output_type": "stream",
     "text": [
      "Epoch:29 train_loss:0.021 val_loss:0.020 time:0.261\n"
     ]
    },
    {
     "name": "stderr",
     "output_type": "stream",
     "text": [
      "INFO:tadred.networks:Decay sigma_mult 0.5999999046325684\n"
     ]
    },
    {
     "name": "stdout",
     "output_type": "stream",
     "text": [
      "Epoch:30 train_loss:0.022 val_loss:0.021 time:0.272\n"
     ]
    },
    {
     "name": "stderr",
     "output_type": "stream",
     "text": [
      "INFO:tadred.networks:Decay sigma_mult 0.5499998927116394\n"
     ]
    },
    {
     "name": "stdout",
     "output_type": "stream",
     "text": [
      "Epoch:31 train_loss:0.023 val_loss:0.022 time:0.272\n"
     ]
    },
    {
     "name": "stderr",
     "output_type": "stream",
     "text": [
      "INFO:tadred.networks:Decay sigma_mult 0.49999988079071045\n"
     ]
    },
    {
     "name": "stdout",
     "output_type": "stream",
     "text": [
      "Epoch:32 train_loss:0.023 val_loss:0.023 time:0.273\n"
     ]
    },
    {
     "name": "stderr",
     "output_type": "stream",
     "text": [
      "INFO:tadred.networks:Decay sigma_mult 0.4499998688697815\n"
     ]
    },
    {
     "name": "stdout",
     "output_type": "stream",
     "text": [
      "Epoch:33 train_loss:0.024 val_loss:0.024 time:0.280\n"
     ]
    },
    {
     "name": "stderr",
     "output_type": "stream",
     "text": [
      "INFO:tadred.networks:Decay sigma_mult 0.39999985694885254\n"
     ]
    },
    {
     "name": "stdout",
     "output_type": "stream",
     "text": [
      "Epoch:34 train_loss:0.026 val_loss:0.025 time:0.265\n"
     ]
    },
    {
     "name": "stderr",
     "output_type": "stream",
     "text": [
      "INFO:tadred.networks:Decay sigma_mult 0.3499998450279236\n"
     ]
    },
    {
     "name": "stdout",
     "output_type": "stream",
     "text": [
      "Epoch:35 train_loss:0.027 val_loss:0.026 time:0.280\n"
     ]
    },
    {
     "name": "stderr",
     "output_type": "stream",
     "text": [
      "INFO:tadred.networks:Decay sigma_mult 0.29999983310699463\n"
     ]
    },
    {
     "name": "stdout",
     "output_type": "stream",
     "text": [
      "Epoch:36 train_loss:0.029 val_loss:0.027 time:0.304\n"
     ]
    },
    {
     "name": "stderr",
     "output_type": "stream",
     "text": [
      "INFO:tadred.networks:Decay sigma_mult 0.24999983608722687\n"
     ]
    },
    {
     "name": "stdout",
     "output_type": "stream",
     "text": [
      "Epoch:37 train_loss:0.030 val_loss:0.029 time:0.264\n"
     ]
    },
    {
     "name": "stderr",
     "output_type": "stream",
     "text": [
      "INFO:tadred.networks:Decay sigma_mult 0.1999998390674591\n"
     ]
    },
    {
     "name": "stdout",
     "output_type": "stream",
     "text": [
      "Epoch:38 train_loss:0.033 val_loss:0.031 time:0.265\n"
     ]
    },
    {
     "name": "stderr",
     "output_type": "stream",
     "text": [
      "INFO:tadred.networks:Decay sigma_mult 0.14999984204769135\n"
     ]
    },
    {
     "name": "stdout",
     "output_type": "stream",
     "text": [
      "Epoch:39 train_loss:0.035 val_loss:0.033 time:0.263\n"
     ]
    },
    {
     "name": "stderr",
     "output_type": "stream",
     "text": [
      "INFO:tadred.networks:Decay sigma_mult 0.09999984502792358\n"
     ]
    },
    {
     "name": "stdout",
     "output_type": "stream",
     "text": [
      "Epoch:40 train_loss:0.038 val_loss:0.035 time:0.264\n"
     ]
    },
    {
     "name": "stderr",
     "output_type": "stream",
     "text": [
      "INFO:tadred.networks:Decay sigma_mult 0.049999844282865524\n"
     ]
    },
    {
     "name": "stdout",
     "output_type": "stream",
     "text": [
      "Epoch:41 train_loss:0.042 val_loss:0.038 time:0.264\n"
     ]
    },
    {
     "name": "stderr",
     "output_type": "stream",
     "text": [
      "INFO:tadred.networks:Decay sigma_mult 0.0\n"
     ]
    },
    {
     "name": "stdout",
     "output_type": "stream",
     "text": [
      "Epoch:42 train_loss:0.046 val_loss:0.042 time:0.266\n",
      "Epoch:43 train_loss:0.050 val_loss:0.045 time:0.280\n",
      "Epoch:44 train_loss:0.042 val_loss:0.036 time:0.293\n",
      "Epoch:45 train_loss:0.037 val_loss:0.038 time:0.265\n"
     ]
    },
    {
     "name": "stderr",
     "output_type": "stream",
     "text": [
      "INFO:tadred.trainer:Cached best_state_dict\n"
     ]
    },
    {
     "name": "stdout",
     "output_type": "stream",
     "text": [
      "Epoch:46 train_loss:0.034 val_loss:0.031 time:0.266\n"
     ]
    },
    {
     "name": "stderr",
     "output_type": "stream",
     "text": [
      "INFO:tadred.trainer:Cached best_state_dict\n"
     ]
    },
    {
     "name": "stdout",
     "output_type": "stream",
     "text": [
      "Epoch:47 train_loss:0.031 val_loss:0.030 time:0.262\n"
     ]
    },
    {
     "name": "stderr",
     "output_type": "stream",
     "text": [
      "INFO:tadred.trainer:Cached best_state_dict\n"
     ]
    },
    {
     "name": "stdout",
     "output_type": "stream",
     "text": [
      "Epoch:48 train_loss:0.029 val_loss:0.030 time:0.326\n"
     ]
    },
    {
     "name": "stderr",
     "output_type": "stream",
     "text": [
      "INFO:tadred.trainer:Cached best_state_dict\n",
      "INFO:tadred.trainer:\n",
      "Finished training step 1 \n",
      "m = 320 \n",
      "step time:13.721\n",
      "INFO:tadred.networks:m has 320 ones and 0 zeros\n",
      "INFO:tadred.networks:sigma_mult 0.5\n",
      "INFO:tadred.networks:Decay: 160.0 measurements in NAS step 2\n"
     ]
    },
    {
     "name": "stdout",
     "output_type": "stream",
     "text": [
      "Epoch:49 train_loss:0.028 val_loss:0.028 time:0.257\n",
      "Epoch:0 train_loss:2.679 val_loss:2.092 time:0.269\n",
      "Epoch:1 train_loss:1.051 val_loss:0.224 time:0.267\n",
      "Epoch:2 train_loss:0.431 val_loss:0.112 time:0.289\n",
      "Epoch:3 train_loss:0.186 val_loss:0.230 time:0.280\n",
      "Epoch:4 train_loss:0.118 val_loss:0.104 time:0.275\n",
      "Epoch:5 train_loss:0.069 val_loss:0.041 time:0.267\n",
      "Epoch:6 train_loss:0.043 val_loss:0.027 time:0.268\n",
      "Epoch:7 train_loss:0.028 val_loss:0.028 time:0.263\n",
      "Epoch:8 train_loss:0.025 val_loss:0.027 time:0.265\n",
      "Epoch:9 train_loss:0.022 val_loss:0.021 time:0.284\n",
      "Epoch:10 train_loss:0.020 val_loss:0.020 time:0.313\n",
      "Epoch:11 train_loss:0.019 val_loss:0.020 time:0.280\n",
      "Epoch:12 train_loss:0.018 val_loss:0.019 time:0.274\n",
      "Epoch:13 train_loss:0.018 val_loss:0.019 time:0.285\n",
      "Epoch:14 train_loss:0.018 val_loss:0.019 time:0.267\n",
      "Epoch:15 train_loss:0.017 val_loss:0.018 time:0.272\n",
      "Epoch:16 train_loss:0.017 val_loss:0.018 time:0.267\n",
      "Epoch:17 train_loss:0.017 val_loss:0.018 time:0.276\n",
      "Epoch:18 train_loss:0.017 val_loss:0.018 time:0.272\n",
      "Epoch:19 train_loss:0.017 val_loss:0.018 time:0.273\n",
      "Epoch:20 train_loss:0.017 val_loss:0.018 time:0.281\n",
      "Epoch:21 train_loss:0.017 val_loss:0.018 time:0.269\n",
      "Epoch:22 train_loss:0.017 val_loss:0.018 time:0.266\n"
     ]
    },
    {
     "name": "stderr",
     "output_type": "stream",
     "text": [
      "INFO:tadred.networks:Trigger epochs_fix_sigma\n",
      "INFO:tadred.networks:sigma_bar = 0.5*(sigma_bar+sigma_average)\n",
      "INFO:tadred.networks:Decay sigma_mult 0.44999998807907104\n"
     ]
    },
    {
     "name": "stdout",
     "output_type": "stream",
     "text": [
      "Epoch:23 train_loss:0.016 val_loss:0.018 time:0.268\n"
     ]
    },
    {
     "name": "stderr",
     "output_type": "stream",
     "text": [
      "INFO:tadred.networks:Decay sigma_mult 0.3999999761581421\n"
     ]
    },
    {
     "name": "stdout",
     "output_type": "stream",
     "text": [
      "Epoch:24 train_loss:0.055 val_loss:0.026 time:0.307\n"
     ]
    },
    {
     "name": "stderr",
     "output_type": "stream",
     "text": [
      "INFO:tadred.networks:Decay sigma_mult 0.34999996423721313\n"
     ]
    },
    {
     "name": "stdout",
     "output_type": "stream",
     "text": [
      "Epoch:25 train_loss:0.044 val_loss:0.029 time:0.268\n"
     ]
    },
    {
     "name": "stderr",
     "output_type": "stream",
     "text": [
      "INFO:tadred.networks:Decay sigma_mult 0.2999999523162842\n"
     ]
    },
    {
     "name": "stdout",
     "output_type": "stream",
     "text": [
      "Epoch:26 train_loss:0.037 val_loss:0.036 time:0.269\n"
     ]
    },
    {
     "name": "stderr",
     "output_type": "stream",
     "text": [
      "INFO:tadred.networks:Decay sigma_mult 0.24999995529651642\n"
     ]
    },
    {
     "name": "stdout",
     "output_type": "stream",
     "text": [
      "Epoch:27 train_loss:0.023 val_loss:0.022 time:0.269\n"
     ]
    },
    {
     "name": "stderr",
     "output_type": "stream",
     "text": [
      "INFO:tadred.networks:Decay sigma_mult 0.19999995827674866\n"
     ]
    },
    {
     "name": "stdout",
     "output_type": "stream",
     "text": [
      "Epoch:28 train_loss:0.028 val_loss:0.024 time:0.269\n"
     ]
    },
    {
     "name": "stderr",
     "output_type": "stream",
     "text": [
      "INFO:tadred.networks:Decay sigma_mult 0.1499999612569809\n"
     ]
    },
    {
     "name": "stdout",
     "output_type": "stream",
     "text": [
      "Epoch:29 train_loss:0.027 val_loss:0.026 time:0.266\n"
     ]
    },
    {
     "name": "stderr",
     "output_type": "stream",
     "text": [
      "INFO:tadred.networks:Decay sigma_mult 0.09999996423721313\n"
     ]
    },
    {
     "name": "stdout",
     "output_type": "stream",
     "text": [
      "Epoch:30 train_loss:0.026 val_loss:0.026 time:0.287\n"
     ]
    },
    {
     "name": "stderr",
     "output_type": "stream",
     "text": [
      "INFO:tadred.networks:Decay sigma_mult 0.049999963492155075\n"
     ]
    },
    {
     "name": "stdout",
     "output_type": "stream",
     "text": [
      "Epoch:31 train_loss:0.030 val_loss:0.027 time:0.303\n"
     ]
    },
    {
     "name": "stderr",
     "output_type": "stream",
     "text": [
      "INFO:tadred.networks:Decay sigma_mult 0.0\n"
     ]
    },
    {
     "name": "stdout",
     "output_type": "stream",
     "text": [
      "Epoch:32 train_loss:0.033 val_loss:0.029 time:0.311\n"
     ]
    },
    {
     "name": "stderr",
     "output_type": "stream",
     "text": [
      "INFO:tadred.networks:Decay measurements\n"
     ]
    },
    {
     "name": "stdout",
     "output_type": "stream",
     "text": [
      "Epoch:33 train_loss:0.034 val_loss:0.031 time:0.314\n"
     ]
    },
    {
     "name": "stderr",
     "output_type": "stream",
     "text": [
      "INFO:tadred.networks:Decay measurements\n"
     ]
    },
    {
     "name": "stdout",
     "output_type": "stream",
     "text": [
      "Epoch:34 train_loss:0.028 val_loss:0.027 time:0.308\n"
     ]
    },
    {
     "name": "stderr",
     "output_type": "stream",
     "text": [
      "INFO:tadred.networks:Decay measurements\n"
     ]
    },
    {
     "name": "stdout",
     "output_type": "stream",
     "text": [
      "Epoch:35 train_loss:0.022 val_loss:0.022 time:0.312\n"
     ]
    },
    {
     "name": "stderr",
     "output_type": "stream",
     "text": [
      "INFO:tadred.networks:Decay measurements\n"
     ]
    },
    {
     "name": "stdout",
     "output_type": "stream",
     "text": [
      "Epoch:36 train_loss:0.018 val_loss:0.017 time:0.316\n"
     ]
    },
    {
     "name": "stderr",
     "output_type": "stream",
     "text": [
      "INFO:tadred.networks:Decay measurements\n"
     ]
    },
    {
     "name": "stdout",
     "output_type": "stream",
     "text": [
      "Epoch:37 train_loss:0.015 val_loss:0.016 time:0.324\n"
     ]
    },
    {
     "name": "stderr",
     "output_type": "stream",
     "text": [
      "INFO:tadred.networks:Decay measurements\n"
     ]
    },
    {
     "name": "stdout",
     "output_type": "stream",
     "text": [
      "Epoch:38 train_loss:0.014 val_loss:0.014 time:0.298\n"
     ]
    },
    {
     "name": "stderr",
     "output_type": "stream",
     "text": [
      "INFO:tadred.networks:Decay measurements\n"
     ]
    },
    {
     "name": "stdout",
     "output_type": "stream",
     "text": [
      "Epoch:39 train_loss:0.013 val_loss:0.013 time:0.297\n"
     ]
    },
    {
     "name": "stderr",
     "output_type": "stream",
     "text": [
      "INFO:tadred.networks:Decay measurements\n"
     ]
    },
    {
     "name": "stdout",
     "output_type": "stream",
     "text": [
      "Epoch:40 train_loss:0.011 val_loss:0.011 time:0.268\n"
     ]
    },
    {
     "name": "stderr",
     "output_type": "stream",
     "text": [
      "INFO:tadred.networks:Decay measurements\n"
     ]
    },
    {
     "name": "stdout",
     "output_type": "stream",
     "text": [
      "Epoch:41 train_loss:0.011 val_loss:0.011 time:0.292\n"
     ]
    },
    {
     "name": "stderr",
     "output_type": "stream",
     "text": [
      "INFO:tadred.networks:Decay measurements\n"
     ]
    },
    {
     "name": "stdout",
     "output_type": "stream",
     "text": [
      "Epoch:42 train_loss:0.010 val_loss:0.010 time:0.283\n",
      "Epoch:43 train_loss:0.010 val_loss:0.009 time:0.286\n",
      "Epoch:44 train_loss:0.009 val_loss:0.009 time:0.284\n",
      "Epoch:45 train_loss:0.008 val_loss:0.008 time:0.278\n"
     ]
    },
    {
     "name": "stderr",
     "output_type": "stream",
     "text": [
      "INFO:tadred.trainer:Cached best_state_dict\n"
     ]
    },
    {
     "name": "stdout",
     "output_type": "stream",
     "text": [
      "Epoch:46 train_loss:0.008 val_loss:0.008 time:0.297\n"
     ]
    },
    {
     "name": "stderr",
     "output_type": "stream",
     "text": [
      "INFO:tadred.trainer:Cached best_state_dict\n"
     ]
    },
    {
     "name": "stdout",
     "output_type": "stream",
     "text": [
      "Epoch:47 train_loss:0.008 val_loss:0.008 time:0.289\n"
     ]
    },
    {
     "name": "stderr",
     "output_type": "stream",
     "text": [
      "INFO:tadred.trainer:Cached best_state_dict\n"
     ]
    },
    {
     "name": "stdout",
     "output_type": "stream",
     "text": [
      "Epoch:48 train_loss:0.008 val_loss:0.008 time:0.278\n"
     ]
    },
    {
     "name": "stderr",
     "output_type": "stream",
     "text": [
      "INFO:tadred.trainer:Cached best_state_dict\n",
      "INFO:tadred.trainer:\n",
      "Finished training step 2 \n",
      "m = 160 \n",
      "step time:14.172\n",
      "INFO:tadred.trainer:m 160 ones 160 zeros\n",
      "INFO:tadred.trainer:m 160 ones 160 zeros\n",
      "INFO:tadred.trainer:val_joint 0.008045299910008907 test_joint 0.007385765668004751\n",
      "INFO:tadred.networks:m has 160 ones and 160 zeros\n",
      "INFO:tadred.networks:sigma_mult 0.5\n",
      "INFO:tadred.networks:Decay: 80.0 measurements in NAS step 3\n"
     ]
    },
    {
     "name": "stdout",
     "output_type": "stream",
     "text": [
      "Epoch:49 train_loss:0.008 val_loss:0.008 time:0.269\n",
      "Epoch:0 train_loss:0.588 val_loss:0.315 time:0.346\n",
      "Epoch:1 train_loss:0.240 val_loss:0.248 time:0.290\n",
      "Epoch:2 train_loss:0.153 val_loss:0.042 time:0.278\n",
      "Epoch:3 train_loss:0.059 val_loss:0.033 time:0.285\n",
      "Epoch:4 train_loss:0.033 val_loss:0.040 time:0.304\n",
      "Epoch:5 train_loss:0.024 val_loss:0.018 time:0.287\n",
      "Epoch:6 train_loss:0.015 val_loss:0.009 time:0.270\n",
      "Epoch:7 train_loss:0.010 val_loss:0.010 time:0.268\n",
      "Epoch:8 train_loss:0.009 val_loss:0.009 time:0.297\n",
      "Epoch:9 train_loss:0.008 val_loss:0.007 time:0.332\n",
      "Epoch:10 train_loss:0.007 val_loss:0.007 time:0.289\n",
      "Epoch:11 train_loss:0.007 val_loss:0.007 time:0.286\n",
      "Epoch:12 train_loss:0.007 val_loss:0.007 time:0.294\n",
      "Epoch:13 train_loss:0.006 val_loss:0.007 time:0.299\n",
      "Epoch:14 train_loss:0.006 val_loss:0.006 time:0.387\n",
      "Epoch:15 train_loss:0.006 val_loss:0.006 time:0.309\n",
      "Epoch:16 train_loss:0.006 val_loss:0.006 time:0.300\n",
      "Epoch:17 train_loss:0.006 val_loss:0.006 time:0.317\n",
      "Epoch:18 train_loss:0.006 val_loss:0.006 time:0.307\n",
      "Epoch:19 train_loss:0.006 val_loss:0.006 time:0.303\n",
      "Epoch:20 train_loss:0.006 val_loss:0.006 time:0.302\n",
      "Epoch:21 train_loss:0.006 val_loss:0.006 time:0.307\n",
      "Epoch:22 train_loss:0.006 val_loss:0.006 time:0.294\n"
     ]
    },
    {
     "name": "stderr",
     "output_type": "stream",
     "text": [
      "INFO:tadred.networks:Trigger epochs_fix_sigma\n",
      "INFO:tadred.networks:sigma_bar = 0.5*(sigma_bar+sigma_average)\n",
      "INFO:tadred.networks:Decay sigma_mult 0.44999998807907104\n"
     ]
    },
    {
     "name": "stdout",
     "output_type": "stream",
     "text": [
      "Epoch:23 train_loss:0.006 val_loss:0.006 time:0.297\n"
     ]
    },
    {
     "name": "stderr",
     "output_type": "stream",
     "text": [
      "INFO:tadred.networks:Decay sigma_mult 0.3999999761581421\n"
     ]
    },
    {
     "name": "stdout",
     "output_type": "stream",
     "text": [
      "Epoch:24 train_loss:0.010 val_loss:0.008 time:0.305\n"
     ]
    },
    {
     "name": "stderr",
     "output_type": "stream",
     "text": [
      "INFO:tadred.networks:Decay sigma_mult 0.34999996423721313\n"
     ]
    },
    {
     "name": "stdout",
     "output_type": "stream",
     "text": [
      "Epoch:25 train_loss:0.008 val_loss:0.007 time:0.324\n"
     ]
    },
    {
     "name": "stderr",
     "output_type": "stream",
     "text": [
      "INFO:tadred.networks:Decay sigma_mult 0.2999999523162842\n"
     ]
    },
    {
     "name": "stdout",
     "output_type": "stream",
     "text": [
      "Epoch:26 train_loss:0.007 val_loss:0.007 time:0.314\n"
     ]
    },
    {
     "name": "stderr",
     "output_type": "stream",
     "text": [
      "INFO:tadred.networks:Decay sigma_mult 0.24999995529651642\n"
     ]
    },
    {
     "name": "stdout",
     "output_type": "stream",
     "text": [
      "Epoch:27 train_loss:0.008 val_loss:0.008 time:0.339\n"
     ]
    },
    {
     "name": "stderr",
     "output_type": "stream",
     "text": [
      "INFO:tadred.networks:Decay sigma_mult 0.19999995827674866\n"
     ]
    },
    {
     "name": "stdout",
     "output_type": "stream",
     "text": [
      "Epoch:28 train_loss:0.008 val_loss:0.007 time:0.316\n"
     ]
    },
    {
     "name": "stderr",
     "output_type": "stream",
     "text": [
      "INFO:tadred.networks:Decay sigma_mult 0.1499999612569809\n"
     ]
    },
    {
     "name": "stdout",
     "output_type": "stream",
     "text": [
      "Epoch:29 train_loss:0.008 val_loss:0.008 time:0.312\n"
     ]
    },
    {
     "name": "stderr",
     "output_type": "stream",
     "text": [
      "INFO:tadred.networks:Decay sigma_mult 0.09999996423721313\n"
     ]
    },
    {
     "name": "stdout",
     "output_type": "stream",
     "text": [
      "Epoch:30 train_loss:0.008 val_loss:0.008 time:0.315\n"
     ]
    },
    {
     "name": "stderr",
     "output_type": "stream",
     "text": [
      "INFO:tadred.networks:Decay sigma_mult 0.049999963492155075\n"
     ]
    },
    {
     "name": "stdout",
     "output_type": "stream",
     "text": [
      "Epoch:31 train_loss:0.009 val_loss:0.009 time:0.300\n"
     ]
    },
    {
     "name": "stderr",
     "output_type": "stream",
     "text": [
      "INFO:tadred.networks:Decay sigma_mult 0.0\n"
     ]
    },
    {
     "name": "stdout",
     "output_type": "stream",
     "text": [
      "Epoch:32 train_loss:0.010 val_loss:0.009 time:0.270\n"
     ]
    },
    {
     "name": "stderr",
     "output_type": "stream",
     "text": [
      "INFO:tadred.networks:Decay measurements\n"
     ]
    },
    {
     "name": "stdout",
     "output_type": "stream",
     "text": [
      "Epoch:33 train_loss:0.010 val_loss:0.010 time:0.270\n"
     ]
    },
    {
     "name": "stderr",
     "output_type": "stream",
     "text": [
      "INFO:tadred.networks:Decay measurements\n"
     ]
    },
    {
     "name": "stdout",
     "output_type": "stream",
     "text": [
      "Epoch:34 train_loss:0.010 val_loss:0.010 time:0.272\n"
     ]
    },
    {
     "name": "stderr",
     "output_type": "stream",
     "text": [
      "INFO:tadred.networks:Decay measurements\n"
     ]
    },
    {
     "name": "stdout",
     "output_type": "stream",
     "text": [
      "Epoch:35 train_loss:0.010 val_loss:0.010 time:0.268\n"
     ]
    },
    {
     "name": "stderr",
     "output_type": "stream",
     "text": [
      "INFO:tadred.networks:Decay measurements\n"
     ]
    },
    {
     "name": "stdout",
     "output_type": "stream",
     "text": [
      "Epoch:36 train_loss:0.011 val_loss:0.010 time:0.274\n"
     ]
    },
    {
     "name": "stderr",
     "output_type": "stream",
     "text": [
      "INFO:tadred.networks:Decay measurements\n"
     ]
    },
    {
     "name": "stdout",
     "output_type": "stream",
     "text": [
      "Epoch:37 train_loss:0.012 val_loss:0.011 time:0.285\n"
     ]
    },
    {
     "name": "stderr",
     "output_type": "stream",
     "text": [
      "INFO:tadred.networks:Decay measurements\n"
     ]
    },
    {
     "name": "stdout",
     "output_type": "stream",
     "text": [
      "Epoch:38 train_loss:0.012 val_loss:0.011 time:0.309\n"
     ]
    },
    {
     "name": "stderr",
     "output_type": "stream",
     "text": [
      "INFO:tadred.networks:Decay measurements\n"
     ]
    },
    {
     "name": "stdout",
     "output_type": "stream",
     "text": [
      "Epoch:39 train_loss:0.013 val_loss:0.012 time:0.342\n"
     ]
    },
    {
     "name": "stderr",
     "output_type": "stream",
     "text": [
      "INFO:tadred.networks:Decay measurements\n"
     ]
    },
    {
     "name": "stdout",
     "output_type": "stream",
     "text": [
      "Epoch:40 train_loss:0.014 val_loss:0.012 time:0.293\n"
     ]
    },
    {
     "name": "stderr",
     "output_type": "stream",
     "text": [
      "INFO:tadred.networks:Decay measurements\n"
     ]
    },
    {
     "name": "stdout",
     "output_type": "stream",
     "text": [
      "Epoch:41 train_loss:0.014 val_loss:0.013 time:0.303\n"
     ]
    },
    {
     "name": "stderr",
     "output_type": "stream",
     "text": [
      "INFO:tadred.networks:Decay measurements\n"
     ]
    },
    {
     "name": "stdout",
     "output_type": "stream",
     "text": [
      "Epoch:42 train_loss:0.016 val_loss:0.014 time:0.305\n",
      "Epoch:43 train_loss:0.017 val_loss:0.015 time:0.312\n",
      "Epoch:44 train_loss:0.015 val_loss:0.013 time:0.353\n",
      "Epoch:45 train_loss:0.014 val_loss:0.013 time:0.292\n"
     ]
    },
    {
     "name": "stderr",
     "output_type": "stream",
     "text": [
      "INFO:tadred.trainer:Cached best_state_dict\n"
     ]
    },
    {
     "name": "stdout",
     "output_type": "stream",
     "text": [
      "Epoch:46 train_loss:0.013 val_loss:0.012 time:0.270\n"
     ]
    },
    {
     "name": "stderr",
     "output_type": "stream",
     "text": [
      "INFO:tadred.trainer:Cached best_state_dict\n"
     ]
    },
    {
     "name": "stdout",
     "output_type": "stream",
     "text": [
      "Epoch:47 train_loss:0.013 val_loss:0.012 time:0.271\n"
     ]
    },
    {
     "name": "stderr",
     "output_type": "stream",
     "text": [
      "INFO:tadred.trainer:Cached best_state_dict\n"
     ]
    },
    {
     "name": "stdout",
     "output_type": "stream",
     "text": [
      "Epoch:48 train_loss:0.012 val_loss:0.011 time:0.264\n"
     ]
    },
    {
     "name": "stderr",
     "output_type": "stream",
     "text": [
      "INFO:tadred.trainer:Cached best_state_dict\n",
      "INFO:tadred.trainer:\n",
      "Finished training step 3 \n",
      "m = 80 \n",
      "step time:15.043\n",
      "INFO:tadred.trainer:m 80 ones 240 zeros\n",
      "INFO:tadred.trainer:m 80 ones 240 zeros\n",
      "INFO:tadred.trainer:val_joint 0.01090976595878601 test_joint 0.010447757318615913\n",
      "INFO:tadred.networks:m has 80 ones and 240 zeros\n",
      "INFO:tadred.networks:sigma_mult 0.5\n",
      "INFO:tadred.networks:Decay: 40.0 measurements in NAS step 4\n"
     ]
    },
    {
     "name": "stdout",
     "output_type": "stream",
     "text": [
      "Epoch:49 train_loss:0.012 val_loss:0.011 time:0.276\n",
      "Epoch:0 train_loss:0.270 val_loss:0.288 time:0.296\n",
      "Epoch:1 train_loss:0.123 val_loss:0.057 time:0.297\n",
      "Epoch:2 train_loss:0.066 val_loss:0.036 time:0.289\n",
      "Epoch:3 train_loss:0.035 val_loss:0.023 time:0.308\n",
      "Epoch:4 train_loss:0.021 val_loss:0.013 time:0.269\n",
      "Epoch:5 train_loss:0.012 val_loss:0.014 time:0.283\n",
      "Epoch:6 train_loss:0.010 val_loss:0.008 time:0.275\n",
      "Epoch:7 train_loss:0.009 val_loss:0.007 time:0.270\n",
      "Epoch:8 train_loss:0.008 val_loss:0.007 time:0.271\n",
      "Epoch:9 train_loss:0.007 val_loss:0.007 time:0.298\n",
      "Epoch:10 train_loss:0.007 val_loss:0.006 time:0.293\n",
      "Epoch:11 train_loss:0.007 val_loss:0.006 time:0.302\n",
      "Epoch:12 train_loss:0.006 val_loss:0.006 time:0.293\n",
      "Epoch:13 train_loss:0.006 val_loss:0.006 time:0.286\n",
      "Epoch:14 train_loss:0.006 val_loss:0.006 time:0.291\n",
      "Epoch:15 train_loss:0.006 val_loss:0.006 time:0.286\n",
      "Epoch:16 train_loss:0.006 val_loss:0.006 time:0.306\n",
      "Epoch:17 train_loss:0.006 val_loss:0.006 time:0.313\n",
      "Epoch:18 train_loss:0.006 val_loss:0.006 time:0.295\n",
      "Epoch:19 train_loss:0.006 val_loss:0.005 time:0.299\n",
      "Epoch:20 train_loss:0.006 val_loss:0.005 time:0.320\n",
      "Epoch:21 train_loss:0.006 val_loss:0.005 time:0.319\n",
      "Epoch:22 train_loss:0.006 val_loss:0.005 time:0.313\n"
     ]
    },
    {
     "name": "stderr",
     "output_type": "stream",
     "text": [
      "INFO:tadred.networks:Trigger epochs_fix_sigma\n",
      "INFO:tadred.networks:sigma_bar = 0.5*(sigma_bar+sigma_average)\n",
      "INFO:tadred.networks:Decay sigma_mult 0.44999998807907104\n"
     ]
    },
    {
     "name": "stdout",
     "output_type": "stream",
     "text": [
      "Epoch:23 train_loss:0.006 val_loss:0.005 time:0.308\n"
     ]
    },
    {
     "name": "stderr",
     "output_type": "stream",
     "text": [
      "INFO:tadred.networks:Decay sigma_mult 0.3999999761581421\n"
     ]
    },
    {
     "name": "stdout",
     "output_type": "stream",
     "text": [
      "Epoch:24 train_loss:0.012 val_loss:0.012 time:0.313\n"
     ]
    },
    {
     "name": "stderr",
     "output_type": "stream",
     "text": [
      "INFO:tadred.networks:Decay sigma_mult 0.34999996423721313\n"
     ]
    },
    {
     "name": "stdout",
     "output_type": "stream",
     "text": [
      "Epoch:25 train_loss:0.010 val_loss:0.007 time:0.304\n"
     ]
    },
    {
     "name": "stderr",
     "output_type": "stream",
     "text": [
      "INFO:tadred.networks:Decay sigma_mult 0.2999999523162842\n"
     ]
    },
    {
     "name": "stdout",
     "output_type": "stream",
     "text": [
      "Epoch:26 train_loss:0.010 val_loss:0.007 time:0.304\n"
     ]
    },
    {
     "name": "stderr",
     "output_type": "stream",
     "text": [
      "INFO:tadred.networks:Decay sigma_mult 0.24999995529651642\n"
     ]
    },
    {
     "name": "stdout",
     "output_type": "stream",
     "text": [
      "Epoch:27 train_loss:0.008 val_loss:0.007 time:0.295\n"
     ]
    },
    {
     "name": "stderr",
     "output_type": "stream",
     "text": [
      "INFO:tadred.networks:Decay sigma_mult 0.19999995827674866\n"
     ]
    },
    {
     "name": "stdout",
     "output_type": "stream",
     "text": [
      "Epoch:28 train_loss:0.009 val_loss:0.008 time:0.329\n"
     ]
    },
    {
     "name": "stderr",
     "output_type": "stream",
     "text": [
      "INFO:tadred.networks:Decay sigma_mult 0.1499999612569809\n"
     ]
    },
    {
     "name": "stdout",
     "output_type": "stream",
     "text": [
      "Epoch:29 train_loss:0.010 val_loss:0.009 time:0.299\n"
     ]
    },
    {
     "name": "stderr",
     "output_type": "stream",
     "text": [
      "INFO:tadred.networks:Decay sigma_mult 0.09999996423721313\n"
     ]
    },
    {
     "name": "stdout",
     "output_type": "stream",
     "text": [
      "Epoch:30 train_loss:0.011 val_loss:0.010 time:0.305\n"
     ]
    },
    {
     "name": "stderr",
     "output_type": "stream",
     "text": [
      "INFO:tadred.networks:Decay sigma_mult 0.049999963492155075\n"
     ]
    },
    {
     "name": "stdout",
     "output_type": "stream",
     "text": [
      "Epoch:31 train_loss:0.012 val_loss:0.011 time:0.316\n"
     ]
    },
    {
     "name": "stderr",
     "output_type": "stream",
     "text": [
      "INFO:tadred.networks:Decay sigma_mult 0.0\n"
     ]
    },
    {
     "name": "stdout",
     "output_type": "stream",
     "text": [
      "Epoch:32 train_loss:0.013 val_loss:0.012 time:0.314\n"
     ]
    },
    {
     "name": "stderr",
     "output_type": "stream",
     "text": [
      "INFO:tadred.networks:Decay measurements\n"
     ]
    },
    {
     "name": "stdout",
     "output_type": "stream",
     "text": [
      "Epoch:33 train_loss:0.015 val_loss:0.013 time:0.310\n"
     ]
    },
    {
     "name": "stderr",
     "output_type": "stream",
     "text": [
      "INFO:tadred.networks:Decay measurements\n"
     ]
    },
    {
     "name": "stdout",
     "output_type": "stream",
     "text": [
      "Epoch:34 train_loss:0.016 val_loss:0.015 time:0.311\n"
     ]
    },
    {
     "name": "stderr",
     "output_type": "stream",
     "text": [
      "INFO:tadred.networks:Decay measurements\n"
     ]
    },
    {
     "name": "stdout",
     "output_type": "stream",
     "text": [
      "Epoch:35 train_loss:0.017 val_loss:0.015 time:0.304\n"
     ]
    },
    {
     "name": "stderr",
     "output_type": "stream",
     "text": [
      "INFO:tadred.networks:Decay measurements\n"
     ]
    },
    {
     "name": "stdout",
     "output_type": "stream",
     "text": [
      "Epoch:36 train_loss:0.019 val_loss:0.017 time:0.324\n"
     ]
    },
    {
     "name": "stderr",
     "output_type": "stream",
     "text": [
      "INFO:tadred.networks:Decay measurements\n"
     ]
    },
    {
     "name": "stdout",
     "output_type": "stream",
     "text": [
      "Epoch:37 train_loss:0.020 val_loss:0.019 time:0.300\n"
     ]
    },
    {
     "name": "stderr",
     "output_type": "stream",
     "text": [
      "INFO:tadred.networks:Decay measurements\n"
     ]
    },
    {
     "name": "stdout",
     "output_type": "stream",
     "text": [
      "Epoch:38 train_loss:0.022 val_loss:0.021 time:0.294\n"
     ]
    },
    {
     "name": "stderr",
     "output_type": "stream",
     "text": [
      "INFO:tadred.networks:Decay measurements\n"
     ]
    },
    {
     "name": "stdout",
     "output_type": "stream",
     "text": [
      "Epoch:39 train_loss:0.025 val_loss:0.024 time:0.295\n"
     ]
    },
    {
     "name": "stderr",
     "output_type": "stream",
     "text": [
      "INFO:tadred.networks:Decay measurements\n"
     ]
    },
    {
     "name": "stdout",
     "output_type": "stream",
     "text": [
      "Epoch:40 train_loss:0.027 val_loss:0.026 time:0.305\n"
     ]
    },
    {
     "name": "stderr",
     "output_type": "stream",
     "text": [
      "INFO:tadred.networks:Decay measurements\n"
     ]
    },
    {
     "name": "stdout",
     "output_type": "stream",
     "text": [
      "Epoch:41 train_loss:0.030 val_loss:0.027 time:0.290\n"
     ]
    },
    {
     "name": "stderr",
     "output_type": "stream",
     "text": [
      "INFO:tadred.networks:Decay measurements\n"
     ]
    },
    {
     "name": "stdout",
     "output_type": "stream",
     "text": [
      "Epoch:42 train_loss:0.033 val_loss:0.026 time:0.331\n",
      "Epoch:43 train_loss:0.035 val_loss:0.026 time:0.296\n",
      "Epoch:44 train_loss:0.029 val_loss:0.023 time:0.284\n",
      "Epoch:45 train_loss:0.026 val_loss:0.022 time:0.293\n"
     ]
    },
    {
     "name": "stderr",
     "output_type": "stream",
     "text": [
      "INFO:tadred.trainer:Cached best_state_dict\n"
     ]
    },
    {
     "name": "stdout",
     "output_type": "stream",
     "text": [
      "Epoch:46 train_loss:0.023 val_loss:0.021 time:0.292\n"
     ]
    },
    {
     "name": "stderr",
     "output_type": "stream",
     "text": [
      "INFO:tadred.trainer:Cached best_state_dict\n"
     ]
    },
    {
     "name": "stdout",
     "output_type": "stream",
     "text": [
      "Epoch:47 train_loss:0.022 val_loss:0.020 time:0.295\n"
     ]
    },
    {
     "name": "stderr",
     "output_type": "stream",
     "text": [
      "INFO:tadred.trainer:Cached best_state_dict\n"
     ]
    },
    {
     "name": "stdout",
     "output_type": "stream",
     "text": [
      "Epoch:48 train_loss:0.020 val_loss:0.019 time:0.303\n"
     ]
    },
    {
     "name": "stderr",
     "output_type": "stream",
     "text": [
      "INFO:tadred.trainer:Cached best_state_dict\n",
      "INFO:tadred.trainer:\n",
      "Finished training step 4 \n",
      "m = 40 \n",
      "step time:15.021\n",
      "INFO:tadred.trainer:m 40 ones 280 zeros\n",
      "INFO:tadred.trainer:m 40 ones 280 zeros\n",
      "INFO:tadred.trainer:val_joint 0.018177824094891548 test_joint 0.019034292548894882\n",
      "INFO:tadred.networks:m has 40 ones and 280 zeros\n",
      "INFO:tadred.networks:sigma_mult 0.5\n",
      "INFO:tadred.networks:Decay: 20.0 measurements in NAS step 5\n"
     ]
    },
    {
     "name": "stdout",
     "output_type": "stream",
     "text": [
      "Epoch:49 train_loss:0.019 val_loss:0.018 time:0.295\n",
      "Epoch:0 train_loss:0.410 val_loss:0.332 time:0.286\n",
      "Epoch:1 train_loss:0.161 val_loss:0.124 time:0.289\n",
      "Epoch:2 train_loss:0.090 val_loss:0.060 time:0.295\n",
      "Epoch:3 train_loss:0.045 val_loss:0.039 time:0.286\n",
      "Epoch:4 train_loss:0.027 val_loss:0.018 time:0.290\n",
      "Epoch:5 train_loss:0.019 val_loss:0.010 time:0.283\n",
      "Epoch:6 train_loss:0.012 val_loss:0.009 time:0.297\n",
      "Epoch:7 train_loss:0.010 val_loss:0.008 time:0.289\n",
      "Epoch:8 train_loss:0.008 val_loss:0.008 time:0.277\n",
      "Epoch:9 train_loss:0.008 val_loss:0.007 time:0.285\n",
      "Epoch:10 train_loss:0.007 val_loss:0.007 time:0.293\n",
      "Epoch:11 train_loss:0.007 val_loss:0.007 time:0.292\n",
      "Epoch:12 train_loss:0.006 val_loss:0.006 time:0.306\n",
      "Epoch:13 train_loss:0.006 val_loss:0.006 time:0.310\n",
      "Epoch:14 train_loss:0.006 val_loss:0.006 time:0.312\n",
      "Epoch:15 train_loss:0.006 val_loss:0.006 time:0.306\n",
      "Epoch:16 train_loss:0.006 val_loss:0.006 time:0.313\n",
      "Epoch:17 train_loss:0.006 val_loss:0.006 time:0.311\n",
      "Epoch:18 train_loss:0.006 val_loss:0.006 time:0.326\n",
      "Epoch:19 train_loss:0.006 val_loss:0.006 time:0.299\n",
      "Epoch:20 train_loss:0.006 val_loss:0.006 time:0.298\n",
      "Epoch:21 train_loss:0.006 val_loss:0.006 time:0.286\n",
      "Epoch:22 train_loss:0.006 val_loss:0.005 time:0.306\n"
     ]
    },
    {
     "name": "stderr",
     "output_type": "stream",
     "text": [
      "INFO:tadred.networks:Trigger epochs_fix_sigma\n",
      "INFO:tadred.networks:sigma_bar = 0.5*(sigma_bar+sigma_average)\n",
      "INFO:tadred.networks:Decay sigma_mult 0.44999998807907104\n"
     ]
    },
    {
     "name": "stdout",
     "output_type": "stream",
     "text": [
      "Epoch:23 train_loss:0.006 val_loss:0.005 time:0.298\n"
     ]
    },
    {
     "name": "stderr",
     "output_type": "stream",
     "text": [
      "INFO:tadred.networks:Decay sigma_mult 0.3999999761581421\n"
     ]
    },
    {
     "name": "stdout",
     "output_type": "stream",
     "text": [
      "Epoch:24 train_loss:0.031 val_loss:0.034 time:0.299\n"
     ]
    },
    {
     "name": "stderr",
     "output_type": "stream",
     "text": [
      "INFO:tadred.networks:Decay sigma_mult 0.34999996423721313\n"
     ]
    },
    {
     "name": "stdout",
     "output_type": "stream",
     "text": [
      "Epoch:25 train_loss:0.020 val_loss:0.023 time:0.318\n"
     ]
    },
    {
     "name": "stderr",
     "output_type": "stream",
     "text": [
      "INFO:tadred.networks:Decay sigma_mult 0.2999999523162842\n"
     ]
    },
    {
     "name": "stdout",
     "output_type": "stream",
     "text": [
      "Epoch:26 train_loss:0.018 val_loss:0.019 time:0.318\n"
     ]
    },
    {
     "name": "stderr",
     "output_type": "stream",
     "text": [
      "INFO:tadred.networks:Decay sigma_mult 0.24999995529651642\n"
     ]
    },
    {
     "name": "stdout",
     "output_type": "stream",
     "text": [
      "Epoch:27 train_loss:0.016 val_loss:0.017 time:0.318\n"
     ]
    },
    {
     "name": "stderr",
     "output_type": "stream",
     "text": [
      "INFO:tadred.networks:Decay sigma_mult 0.19999995827674866\n"
     ]
    },
    {
     "name": "stdout",
     "output_type": "stream",
     "text": [
      "Epoch:28 train_loss:0.015 val_loss:0.014 time:0.325\n"
     ]
    },
    {
     "name": "stderr",
     "output_type": "stream",
     "text": [
      "INFO:tadred.networks:Decay sigma_mult 0.1499999612569809\n"
     ]
    },
    {
     "name": "stdout",
     "output_type": "stream",
     "text": [
      "Epoch:29 train_loss:0.016 val_loss:0.015 time:0.326\n"
     ]
    },
    {
     "name": "stderr",
     "output_type": "stream",
     "text": [
      "INFO:tadred.networks:Decay sigma_mult 0.09999996423721313\n"
     ]
    },
    {
     "name": "stdout",
     "output_type": "stream",
     "text": [
      "Epoch:30 train_loss:0.017 val_loss:0.016 time:0.325\n"
     ]
    },
    {
     "name": "stderr",
     "output_type": "stream",
     "text": [
      "INFO:tadred.networks:Decay sigma_mult 0.049999963492155075\n"
     ]
    },
    {
     "name": "stdout",
     "output_type": "stream",
     "text": [
      "Epoch:31 train_loss:0.020 val_loss:0.019 time:0.309\n"
     ]
    },
    {
     "name": "stderr",
     "output_type": "stream",
     "text": [
      "INFO:tadred.networks:Decay sigma_mult 0.0\n"
     ]
    },
    {
     "name": "stdout",
     "output_type": "stream",
     "text": [
      "Epoch:32 train_loss:0.023 val_loss:0.022 time:0.362\n"
     ]
    },
    {
     "name": "stderr",
     "output_type": "stream",
     "text": [
      "INFO:tadred.networks:Decay measurements\n"
     ]
    },
    {
     "name": "stdout",
     "output_type": "stream",
     "text": [
      "Epoch:33 train_loss:0.028 val_loss:0.026 time:0.317\n"
     ]
    },
    {
     "name": "stderr",
     "output_type": "stream",
     "text": [
      "INFO:tadred.networks:Decay measurements\n"
     ]
    },
    {
     "name": "stdout",
     "output_type": "stream",
     "text": [
      "Epoch:34 train_loss:0.031 val_loss:0.028 time:0.320\n"
     ]
    },
    {
     "name": "stderr",
     "output_type": "stream",
     "text": [
      "INFO:tadred.networks:Decay measurements\n"
     ]
    },
    {
     "name": "stdout",
     "output_type": "stream",
     "text": [
      "Epoch:35 train_loss:0.034 val_loss:0.029 time:0.341\n"
     ]
    },
    {
     "name": "stderr",
     "output_type": "stream",
     "text": [
      "INFO:tadred.networks:Decay measurements\n"
     ]
    },
    {
     "name": "stdout",
     "output_type": "stream",
     "text": [
      "Epoch:36 train_loss:0.038 val_loss:0.030 time:0.319\n"
     ]
    },
    {
     "name": "stderr",
     "output_type": "stream",
     "text": [
      "INFO:tadred.networks:Decay measurements\n"
     ]
    },
    {
     "name": "stdout",
     "output_type": "stream",
     "text": [
      "Epoch:37 train_loss:0.041 val_loss:0.030 time:0.316\n"
     ]
    },
    {
     "name": "stderr",
     "output_type": "stream",
     "text": [
      "INFO:tadred.networks:Decay measurements\n"
     ]
    },
    {
     "name": "stdout",
     "output_type": "stream",
     "text": [
      "Epoch:38 train_loss:0.044 val_loss:0.030 time:0.320\n"
     ]
    },
    {
     "name": "stderr",
     "output_type": "stream",
     "text": [
      "INFO:tadred.networks:Decay measurements\n"
     ]
    },
    {
     "name": "stdout",
     "output_type": "stream",
     "text": [
      "Epoch:39 train_loss:0.047 val_loss:0.033 time:0.343\n"
     ]
    },
    {
     "name": "stderr",
     "output_type": "stream",
     "text": [
      "INFO:tadred.networks:Decay measurements\n"
     ]
    },
    {
     "name": "stdout",
     "output_type": "stream",
     "text": [
      "Epoch:40 train_loss:0.048 val_loss:0.039 time:0.315\n"
     ]
    },
    {
     "name": "stderr",
     "output_type": "stream",
     "text": [
      "INFO:tadred.networks:Decay measurements\n"
     ]
    },
    {
     "name": "stdout",
     "output_type": "stream",
     "text": [
      "Epoch:41 train_loss:0.050 val_loss:0.046 time:0.320\n"
     ]
    },
    {
     "name": "stderr",
     "output_type": "stream",
     "text": [
      "INFO:tadred.networks:Decay measurements\n"
     ]
    },
    {
     "name": "stdout",
     "output_type": "stream",
     "text": [
      "Epoch:42 train_loss:0.051 val_loss:0.048 time:0.334\n",
      "Epoch:43 train_loss:0.051 val_loss:0.047 time:0.316\n",
      "Epoch:44 train_loss:0.045 val_loss:0.039 time:0.278\n",
      "Epoch:45 train_loss:0.039 val_loss:0.033 time:0.300\n"
     ]
    },
    {
     "name": "stderr",
     "output_type": "stream",
     "text": [
      "INFO:tadred.trainer:Cached best_state_dict\n"
     ]
    },
    {
     "name": "stdout",
     "output_type": "stream",
     "text": [
      "Epoch:46 train_loss:0.035 val_loss:0.031 time:0.288\n"
     ]
    },
    {
     "name": "stderr",
     "output_type": "stream",
     "text": [
      "INFO:tadred.trainer:Cached best_state_dict\n"
     ]
    },
    {
     "name": "stdout",
     "output_type": "stream",
     "text": [
      "Epoch:47 train_loss:0.033 val_loss:0.030 time:0.276\n"
     ]
    },
    {
     "name": "stderr",
     "output_type": "stream",
     "text": [
      "INFO:tadred.trainer:Cached best_state_dict\n"
     ]
    },
    {
     "name": "stdout",
     "output_type": "stream",
     "text": [
      "Epoch:48 train_loss:0.031 val_loss:0.029 time:0.278\n"
     ]
    },
    {
     "name": "stderr",
     "output_type": "stream",
     "text": [
      "INFO:tadred.trainer:Cached best_state_dict\n",
      "INFO:tadred.trainer:\n",
      "Finished training step 5 \n",
      "m = 20 \n",
      "step time:15.334\n",
      "INFO:tadred.trainer:m 20 ones 300 zeros\n",
      "INFO:tadred.trainer:m 20 ones 300 zeros\n",
      "INFO:tadred.trainer:val_joint 0.027675585821270943 test_joint 0.029239865019917488\n",
      "INFO:tadred.trainer:End of Training\n",
      "--- Logging error ---\n",
      "Traceback (most recent call last):\n",
      "  File \"/Users/paddyslator/.pyenv/versions/3.10.6/lib/python3.10/logging/__init__.py\", line 1100, in emit\n",
      "    msg = self.format(record)\n",
      "  File \"/Users/paddyslator/.pyenv/versions/3.10.6/lib/python3.10/logging/__init__.py\", line 943, in format\n",
      "    return fmt.format(record)\n",
      "  File \"/Users/paddyslator/.pyenv/versions/3.10.6/lib/python3.10/logging/__init__.py\", line 678, in format\n",
      "    record.message = record.getMessage()\n",
      "  File \"/Users/paddyslator/.pyenv/versions/3.10.6/lib/python3.10/logging/__init__.py\", line 368, in getMessage\n",
      "    msg = msg % self.args\n",
      "TypeError: not all arguments converted during string formatting\n",
      "Call stack:\n",
      "  File \"/Users/paddyslator/.pyenv/versions/3.10.6/lib/python3.10/runpy.py\", line 196, in _run_module_as_main\n",
      "    return _run_code(code, main_globals, None,\n",
      "  File \"/Users/paddyslator/.pyenv/versions/3.10.6/lib/python3.10/runpy.py\", line 86, in _run_code\n",
      "    exec(code, run_globals)\n",
      "  File \"/Users/paddyslator/.pyenv/versions/3.10.6/lib/python3.10/site-packages/ipykernel_launcher.py\", line 17, in <module>\n",
      "    app.launch_new_instance()\n",
      "  File \"/Users/paddyslator/.pyenv/versions/3.10.6/lib/python3.10/site-packages/traitlets/config/application.py\", line 976, in launch_instance\n",
      "    app.start()\n",
      "  File \"/Users/paddyslator/.pyenv/versions/3.10.6/lib/python3.10/site-packages/ipykernel/kernelapp.py\", line 712, in start\n",
      "    self.io_loop.start()\n",
      "  File \"/Users/paddyslator/.pyenv/versions/3.10.6/lib/python3.10/site-packages/tornado/platform/asyncio.py\", line 215, in start\n",
      "    self.asyncio_loop.run_forever()\n",
      "  File \"/Users/paddyslator/.pyenv/versions/3.10.6/lib/python3.10/asyncio/base_events.py\", line 600, in run_forever\n",
      "    self._run_once()\n",
      "  File \"/Users/paddyslator/.pyenv/versions/3.10.6/lib/python3.10/asyncio/base_events.py\", line 1896, in _run_once\n",
      "    handle._run()\n",
      "  File \"/Users/paddyslator/.pyenv/versions/3.10.6/lib/python3.10/asyncio/events.py\", line 80, in _run\n",
      "    self._context.run(self._callback, *self._args)\n",
      "  File \"/Users/paddyslator/.pyenv/versions/3.10.6/lib/python3.10/site-packages/ipykernel/kernelbase.py\", line 510, in dispatch_queue\n",
      "    await self.process_one()\n",
      "  File \"/Users/paddyslator/.pyenv/versions/3.10.6/lib/python3.10/site-packages/ipykernel/kernelbase.py\", line 499, in process_one\n",
      "    await dispatch(*args)\n",
      "  File \"/Users/paddyslator/.pyenv/versions/3.10.6/lib/python3.10/site-packages/ipykernel/kernelbase.py\", line 406, in dispatch_shell\n",
      "    await result\n",
      "  File \"/Users/paddyslator/.pyenv/versions/3.10.6/lib/python3.10/site-packages/ipykernel/kernelbase.py\", line 730, in execute_request\n",
      "    reply_content = await reply_content\n",
      "  File \"/Users/paddyslator/.pyenv/versions/3.10.6/lib/python3.10/site-packages/ipykernel/ipkernel.py\", line 383, in do_execute\n",
      "    res = shell.run_cell(\n",
      "  File \"/Users/paddyslator/.pyenv/versions/3.10.6/lib/python3.10/site-packages/ipykernel/zmqshell.py\", line 528, in run_cell\n",
      "    return super().run_cell(*args, **kwargs)\n",
      "  File \"/Users/paddyslator/.pyenv/versions/3.10.6/lib/python3.10/site-packages/IPython/core/interactiveshell.py\", line 2881, in run_cell\n",
      "    result = self._run_cell(\n",
      "  File \"/Users/paddyslator/.pyenv/versions/3.10.6/lib/python3.10/site-packages/IPython/core/interactiveshell.py\", line 2936, in _run_cell\n",
      "    return runner(coro)\n",
      "  File \"/Users/paddyslator/.pyenv/versions/3.10.6/lib/python3.10/site-packages/IPython/core/async_helpers.py\", line 129, in _pseudo_sync_runner\n",
      "    coro.send(None)\n",
      "  File \"/Users/paddyslator/.pyenv/versions/3.10.6/lib/python3.10/site-packages/IPython/core/interactiveshell.py\", line 3135, in run_cell_async\n",
      "    has_raised = await self.run_ast_nodes(code_ast.body, cell_name,\n",
      "  File \"/Users/paddyslator/.pyenv/versions/3.10.6/lib/python3.10/site-packages/IPython/core/interactiveshell.py\", line 3338, in run_ast_nodes\n",
      "    if await self.run_code(code, result, async_=asy):\n",
      "  File \"/Users/paddyslator/.pyenv/versions/3.10.6/lib/python3.10/site-packages/IPython/core/interactiveshell.py\", line 3398, in run_code\n",
      "    exec(code_obj, self.user_global_ns, self.user_ns)\n",
      "  File \"/var/folders/q9/yt6f867d3zq18ksrj75kk1fc0000gn/T/ipykernel_63551/2910563997.py\", line 30, in <cell line: 30>\n",
      "    TADRED_output = tadred_main.run(args, data)\n",
      "  File \"/Users/paddyslator/.pyenv/versions/3.10.6/lib/python3.10/site-packages/tadred/tadred_main.py\", line 65, in run\n",
      "    out_dirs = create_out_dirs(**args.output)\n",
      "  File \"/Users/paddyslator/.pyenv/versions/3.10.6/lib/python3.10/site-packages/tadred/utils.py\", line 45, in create_out_dirs\n",
      "    log.info(\"Output base directory:\", out_base_dir)\n",
      "Message: 'Output base directory:'\n",
      "Arguments: (PosixPath('/Users/paddyslator/python/ED/ED_MRI/examples/t1inv_simulations_n_train_voxels_10000_SNR_20'),)\n",
      "--- Logging error ---\n",
      "Traceback (most recent call last):\n",
      "  File \"/Users/paddyslator/.pyenv/versions/3.10.6/lib/python3.10/logging/__init__.py\", line 1100, in emit\n",
      "    msg = self.format(record)\n",
      "  File \"/Users/paddyslator/.pyenv/versions/3.10.6/lib/python3.10/logging/__init__.py\", line 943, in format\n",
      "    return fmt.format(record)\n",
      "  File \"/Users/paddyslator/.pyenv/versions/3.10.6/lib/python3.10/logging/__init__.py\", line 678, in format\n",
      "    record.message = record.getMessage()\n",
      "  File \"/Users/paddyslator/.pyenv/versions/3.10.6/lib/python3.10/logging/__init__.py\", line 368, in getMessage\n",
      "    msg = msg % self.args\n",
      "TypeError: not all arguments converted during string formatting\n",
      "Call stack:\n",
      "  File \"/Users/paddyslator/.pyenv/versions/3.10.6/lib/python3.10/runpy.py\", line 196, in _run_module_as_main\n",
      "    return _run_code(code, main_globals, None,\n",
      "  File \"/Users/paddyslator/.pyenv/versions/3.10.6/lib/python3.10/runpy.py\", line 86, in _run_code\n",
      "    exec(code, run_globals)\n",
      "  File \"/Users/paddyslator/.pyenv/versions/3.10.6/lib/python3.10/site-packages/ipykernel_launcher.py\", line 17, in <module>\n",
      "    app.launch_new_instance()\n",
      "  File \"/Users/paddyslator/.pyenv/versions/3.10.6/lib/python3.10/site-packages/traitlets/config/application.py\", line 976, in launch_instance\n",
      "    app.start()\n",
      "  File \"/Users/paddyslator/.pyenv/versions/3.10.6/lib/python3.10/site-packages/ipykernel/kernelapp.py\", line 712, in start\n",
      "    self.io_loop.start()\n",
      "  File \"/Users/paddyslator/.pyenv/versions/3.10.6/lib/python3.10/site-packages/tornado/platform/asyncio.py\", line 215, in start\n",
      "    self.asyncio_loop.run_forever()\n",
      "  File \"/Users/paddyslator/.pyenv/versions/3.10.6/lib/python3.10/asyncio/base_events.py\", line 600, in run_forever\n",
      "    self._run_once()\n",
      "  File \"/Users/paddyslator/.pyenv/versions/3.10.6/lib/python3.10/asyncio/base_events.py\", line 1896, in _run_once\n",
      "    handle._run()\n",
      "  File \"/Users/paddyslator/.pyenv/versions/3.10.6/lib/python3.10/asyncio/events.py\", line 80, in _run\n",
      "    self._context.run(self._callback, *self._args)\n",
      "  File \"/Users/paddyslator/.pyenv/versions/3.10.6/lib/python3.10/site-packages/ipykernel/kernelbase.py\", line 510, in dispatch_queue\n",
      "    await self.process_one()\n",
      "  File \"/Users/paddyslator/.pyenv/versions/3.10.6/lib/python3.10/site-packages/ipykernel/kernelbase.py\", line 499, in process_one\n",
      "    await dispatch(*args)\n",
      "  File \"/Users/paddyslator/.pyenv/versions/3.10.6/lib/python3.10/site-packages/ipykernel/kernelbase.py\", line 406, in dispatch_shell\n",
      "    await result\n",
      "  File \"/Users/paddyslator/.pyenv/versions/3.10.6/lib/python3.10/site-packages/ipykernel/kernelbase.py\", line 730, in execute_request\n",
      "    reply_content = await reply_content\n",
      "  File \"/Users/paddyslator/.pyenv/versions/3.10.6/lib/python3.10/site-packages/ipykernel/ipkernel.py\", line 383, in do_execute\n",
      "    res = shell.run_cell(\n",
      "  File \"/Users/paddyslator/.pyenv/versions/3.10.6/lib/python3.10/site-packages/ipykernel/zmqshell.py\", line 528, in run_cell\n",
      "    return super().run_cell(*args, **kwargs)\n",
      "  File \"/Users/paddyslator/.pyenv/versions/3.10.6/lib/python3.10/site-packages/IPython/core/interactiveshell.py\", line 2881, in run_cell\n",
      "    result = self._run_cell(\n",
      "  File \"/Users/paddyslator/.pyenv/versions/3.10.6/lib/python3.10/site-packages/IPython/core/interactiveshell.py\", line 2936, in _run_cell\n",
      "    return runner(coro)\n",
      "  File \"/Users/paddyslator/.pyenv/versions/3.10.6/lib/python3.10/site-packages/IPython/core/async_helpers.py\", line 129, in _pseudo_sync_runner\n",
      "    coro.send(None)\n",
      "  File \"/Users/paddyslator/.pyenv/versions/3.10.6/lib/python3.10/site-packages/IPython/core/interactiveshell.py\", line 3135, in run_cell_async\n",
      "    has_raised = await self.run_ast_nodes(code_ast.body, cell_name,\n",
      "  File \"/Users/paddyslator/.pyenv/versions/3.10.6/lib/python3.10/site-packages/IPython/core/interactiveshell.py\", line 3338, in run_ast_nodes\n",
      "    if await self.run_code(code, result, async_=asy):\n",
      "  File \"/Users/paddyslator/.pyenv/versions/3.10.6/lib/python3.10/site-packages/IPython/core/interactiveshell.py\", line 3398, in run_code\n",
      "    exec(code_obj, self.user_global_ns, self.user_ns)\n",
      "  File \"/var/folders/q9/yt6f867d3zq18ksrj75kk1fc0000gn/T/ipykernel_63551/2910563997.py\", line 30, in <cell line: 30>\n",
      "    TADRED_output = tadred_main.run(args, data)\n",
      "  File \"/Users/paddyslator/.pyenv/versions/3.10.6/lib/python3.10/site-packages/tadred/tadred_main.py\", line 65, in run\n",
      "    out_dirs = create_out_dirs(**args.output)\n",
      "  File \"/Users/paddyslator/.pyenv/versions/3.10.6/lib/python3.10/site-packages/tadred/utils.py\", line 48, in create_out_dirs\n",
      "    log.info(\"Output results directory:\", out_base_dir)\n",
      "Message: 'Output results directory:'\n",
      "Arguments: (PosixPath('/Users/paddyslator/python/ED/ED_MRI/examples/t1inv_simulations_n_train_voxels_10000_SNR_20'),)\n",
      "--- Logging error ---\n",
      "Traceback (most recent call last):\n",
      "  File \"/Users/paddyslator/.pyenv/versions/3.10.6/lib/python3.10/logging/__init__.py\", line 1100, in emit\n",
      "    msg = self.format(record)\n",
      "  File \"/Users/paddyslator/.pyenv/versions/3.10.6/lib/python3.10/logging/__init__.py\", line 943, in format\n",
      "    return fmt.format(record)\n",
      "  File \"/Users/paddyslator/.pyenv/versions/3.10.6/lib/python3.10/logging/__init__.py\", line 678, in format\n",
      "    record.message = record.getMessage()\n",
      "  File \"/Users/paddyslator/.pyenv/versions/3.10.6/lib/python3.10/logging/__init__.py\", line 368, in getMessage\n",
      "    msg = msg % self.args\n",
      "TypeError: not all arguments converted during string formatting\n",
      "Call stack:\n",
      "  File \"/Users/paddyslator/.pyenv/versions/3.10.6/lib/python3.10/runpy.py\", line 196, in _run_module_as_main\n",
      "    return _run_code(code, main_globals, None,\n",
      "  File \"/Users/paddyslator/.pyenv/versions/3.10.6/lib/python3.10/runpy.py\", line 86, in _run_code\n",
      "    exec(code, run_globals)\n",
      "  File \"/Users/paddyslator/.pyenv/versions/3.10.6/lib/python3.10/site-packages/ipykernel_launcher.py\", line 17, in <module>\n",
      "    app.launch_new_instance()\n",
      "  File \"/Users/paddyslator/.pyenv/versions/3.10.6/lib/python3.10/site-packages/traitlets/config/application.py\", line 976, in launch_instance\n",
      "    app.start()\n",
      "  File \"/Users/paddyslator/.pyenv/versions/3.10.6/lib/python3.10/site-packages/ipykernel/kernelapp.py\", line 712, in start\n",
      "    self.io_loop.start()\n",
      "  File \"/Users/paddyslator/.pyenv/versions/3.10.6/lib/python3.10/site-packages/tornado/platform/asyncio.py\", line 215, in start\n",
      "    self.asyncio_loop.run_forever()\n",
      "  File \"/Users/paddyslator/.pyenv/versions/3.10.6/lib/python3.10/asyncio/base_events.py\", line 600, in run_forever\n",
      "    self._run_once()\n",
      "  File \"/Users/paddyslator/.pyenv/versions/3.10.6/lib/python3.10/asyncio/base_events.py\", line 1896, in _run_once\n",
      "    handle._run()\n",
      "  File \"/Users/paddyslator/.pyenv/versions/3.10.6/lib/python3.10/asyncio/events.py\", line 80, in _run\n",
      "    self._context.run(self._callback, *self._args)\n",
      "  File \"/Users/paddyslator/.pyenv/versions/3.10.6/lib/python3.10/site-packages/ipykernel/kernelbase.py\", line 510, in dispatch_queue\n",
      "    await self.process_one()\n",
      "  File \"/Users/paddyslator/.pyenv/versions/3.10.6/lib/python3.10/site-packages/ipykernel/kernelbase.py\", line 499, in process_one\n",
      "    await dispatch(*args)\n",
      "  File \"/Users/paddyslator/.pyenv/versions/3.10.6/lib/python3.10/site-packages/ipykernel/kernelbase.py\", line 406, in dispatch_shell\n",
      "    await result\n",
      "  File \"/Users/paddyslator/.pyenv/versions/3.10.6/lib/python3.10/site-packages/ipykernel/kernelbase.py\", line 730, in execute_request\n",
      "    reply_content = await reply_content\n",
      "  File \"/Users/paddyslator/.pyenv/versions/3.10.6/lib/python3.10/site-packages/ipykernel/ipkernel.py\", line 383, in do_execute\n",
      "    res = shell.run_cell(\n",
      "  File \"/Users/paddyslator/.pyenv/versions/3.10.6/lib/python3.10/site-packages/ipykernel/zmqshell.py\", line 528, in run_cell\n",
      "    return super().run_cell(*args, **kwargs)\n",
      "  File \"/Users/paddyslator/.pyenv/versions/3.10.6/lib/python3.10/site-packages/IPython/core/interactiveshell.py\", line 2881, in run_cell\n",
      "    result = self._run_cell(\n",
      "  File \"/Users/paddyslator/.pyenv/versions/3.10.6/lib/python3.10/site-packages/IPython/core/interactiveshell.py\", line 2936, in _run_cell\n",
      "    return runner(coro)\n",
      "  File \"/Users/paddyslator/.pyenv/versions/3.10.6/lib/python3.10/site-packages/IPython/core/async_helpers.py\", line 129, in _pseudo_sync_runner\n",
      "    coro.send(None)\n",
      "  File \"/Users/paddyslator/.pyenv/versions/3.10.6/lib/python3.10/site-packages/IPython/core/interactiveshell.py\", line 3135, in run_cell_async\n",
      "    has_raised = await self.run_ast_nodes(code_ast.body, cell_name,\n",
      "  File \"/Users/paddyslator/.pyenv/versions/3.10.6/lib/python3.10/site-packages/IPython/core/interactiveshell.py\", line 3338, in run_ast_nodes\n",
      "    if await self.run_code(code, result, async_=asy):\n",
      "  File \"/Users/paddyslator/.pyenv/versions/3.10.6/lib/python3.10/site-packages/IPython/core/interactiveshell.py\", line 3398, in run_code\n",
      "    exec(code_obj, self.user_global_ns, self.user_ns)\n",
      "  File \"/var/folders/q9/yt6f867d3zq18ksrj75kk1fc0000gn/T/ipykernel_63551/2910563997.py\", line 30, in <cell line: 30>\n",
      "    TADRED_output = tadred_main.run(args, data)\n",
      "  File \"/Users/paddyslator/.pyenv/versions/3.10.6/lib/python3.10/site-packages/tadred/tadred_main.py\", line 65, in run\n",
      "    out_dirs = create_out_dirs(**args.output)\n",
      "  File \"/Users/paddyslator/.pyenv/versions/3.10.6/lib/python3.10/site-packages/tadred/utils.py\", line 52, in create_out_dirs\n",
      "    log.info(\"Model is saved to\", save_model_path)\n",
      "Message: 'Model is saved to'\n",
      "Arguments: (PosixPath('/Users/paddyslator/python/ED/ED_MRI/examples/t1inv_simulations_n_train_voxels_10000_SNR_20/test'),)\n",
      "--- Logging error ---\n",
      "Traceback (most recent call last):\n",
      "  File \"/Users/paddyslator/.pyenv/versions/3.10.6/lib/python3.10/logging/__init__.py\", line 1100, in emit\n",
      "    msg = self.format(record)\n",
      "  File \"/Users/paddyslator/.pyenv/versions/3.10.6/lib/python3.10/logging/__init__.py\", line 943, in format\n",
      "    return fmt.format(record)\n",
      "  File \"/Users/paddyslator/.pyenv/versions/3.10.6/lib/python3.10/logging/__init__.py\", line 678, in format\n",
      "    record.message = record.getMessage()\n",
      "  File \"/Users/paddyslator/.pyenv/versions/3.10.6/lib/python3.10/logging/__init__.py\", line 368, in getMessage\n",
      "    msg = msg % self.args\n",
      "TypeError: not all arguments converted during string formatting\n",
      "Call stack:\n",
      "  File \"/Users/paddyslator/.pyenv/versions/3.10.6/lib/python3.10/runpy.py\", line 196, in _run_module_as_main\n",
      "    return _run_code(code, main_globals, None,\n",
      "  File \"/Users/paddyslator/.pyenv/versions/3.10.6/lib/python3.10/runpy.py\", line 86, in _run_code\n",
      "    exec(code, run_globals)\n",
      "  File \"/Users/paddyslator/.pyenv/versions/3.10.6/lib/python3.10/site-packages/ipykernel_launcher.py\", line 17, in <module>\n",
      "    app.launch_new_instance()\n",
      "  File \"/Users/paddyslator/.pyenv/versions/3.10.6/lib/python3.10/site-packages/traitlets/config/application.py\", line 976, in launch_instance\n",
      "    app.start()\n",
      "  File \"/Users/paddyslator/.pyenv/versions/3.10.6/lib/python3.10/site-packages/ipykernel/kernelapp.py\", line 712, in start\n",
      "    self.io_loop.start()\n",
      "  File \"/Users/paddyslator/.pyenv/versions/3.10.6/lib/python3.10/site-packages/tornado/platform/asyncio.py\", line 215, in start\n",
      "    self.asyncio_loop.run_forever()\n",
      "  File \"/Users/paddyslator/.pyenv/versions/3.10.6/lib/python3.10/asyncio/base_events.py\", line 600, in run_forever\n",
      "    self._run_once()\n",
      "  File \"/Users/paddyslator/.pyenv/versions/3.10.6/lib/python3.10/asyncio/base_events.py\", line 1896, in _run_once\n",
      "    handle._run()\n",
      "  File \"/Users/paddyslator/.pyenv/versions/3.10.6/lib/python3.10/asyncio/events.py\", line 80, in _run\n",
      "    self._context.run(self._callback, *self._args)\n",
      "  File \"/Users/paddyslator/.pyenv/versions/3.10.6/lib/python3.10/site-packages/ipykernel/kernelbase.py\", line 510, in dispatch_queue\n",
      "    await self.process_one()\n",
      "  File \"/Users/paddyslator/.pyenv/versions/3.10.6/lib/python3.10/site-packages/ipykernel/kernelbase.py\", line 499, in process_one\n",
      "    await dispatch(*args)\n",
      "  File \"/Users/paddyslator/.pyenv/versions/3.10.6/lib/python3.10/site-packages/ipykernel/kernelbase.py\", line 406, in dispatch_shell\n",
      "    await result\n",
      "  File \"/Users/paddyslator/.pyenv/versions/3.10.6/lib/python3.10/site-packages/ipykernel/kernelbase.py\", line 730, in execute_request\n",
      "    reply_content = await reply_content\n",
      "  File \"/Users/paddyslator/.pyenv/versions/3.10.6/lib/python3.10/site-packages/ipykernel/ipkernel.py\", line 383, in do_execute\n",
      "    res = shell.run_cell(\n",
      "  File \"/Users/paddyslator/.pyenv/versions/3.10.6/lib/python3.10/site-packages/ipykernel/zmqshell.py\", line 528, in run_cell\n",
      "    return super().run_cell(*args, **kwargs)\n",
      "  File \"/Users/paddyslator/.pyenv/versions/3.10.6/lib/python3.10/site-packages/IPython/core/interactiveshell.py\", line 2881, in run_cell\n",
      "    result = self._run_cell(\n",
      "  File \"/Users/paddyslator/.pyenv/versions/3.10.6/lib/python3.10/site-packages/IPython/core/interactiveshell.py\", line 2936, in _run_cell\n",
      "    return runner(coro)\n",
      "  File \"/Users/paddyslator/.pyenv/versions/3.10.6/lib/python3.10/site-packages/IPython/core/async_helpers.py\", line 129, in _pseudo_sync_runner\n",
      "    coro.send(None)\n",
      "  File \"/Users/paddyslator/.pyenv/versions/3.10.6/lib/python3.10/site-packages/IPython/core/interactiveshell.py\", line 3135, in run_cell_async\n",
      "    has_raised = await self.run_ast_nodes(code_ast.body, cell_name,\n",
      "  File \"/Users/paddyslator/.pyenv/versions/3.10.6/lib/python3.10/site-packages/IPython/core/interactiveshell.py\", line 3338, in run_ast_nodes\n",
      "    if await self.run_code(code, result, async_=asy):\n",
      "  File \"/Users/paddyslator/.pyenv/versions/3.10.6/lib/python3.10/site-packages/IPython/core/interactiveshell.py\", line 3398, in run_code\n",
      "    exec(code_obj, self.user_global_ns, self.user_ns)\n",
      "  File \"/var/folders/q9/yt6f867d3zq18ksrj75kk1fc0000gn/T/ipykernel_63551/2910563997.py\", line 30, in <cell line: 30>\n",
      "    TADRED_output = tadred_main.run(args, data)\n",
      "  File \"/Users/paddyslator/.pyenv/versions/3.10.6/lib/python3.10/site-packages/tadred/tadred_main.py\", line 66, in run\n",
      "    save_results_dir(out_dirs[\"out_base_dir\"], out_dirs[\"results_fn\"], results=results)\n",
      "  File \"/Users/paddyslator/.pyenv/versions/3.10.6/lib/python3.10/site-packages/tadred/utils.py\", line 116, in save_results_dir\n",
      "    log.info(\"Saving final results in\", results_fn)\n",
      "Message: 'Saving final results in'\n",
      "Arguments: (PosixPath('/Users/paddyslator/python/ED/ED_MRI/examples/t1inv_simulations_n_train_voxels_10000_SNR_20/results/test_all.npy'),)\n",
      "INFO:tadred.tadred_main:Total runtime (s): 73.4717979580164 (h): 0.020408832766115666\n"
     ]
    },
    {
     "name": "stdout",
     "output_type": "stream",
     "text": [
      "Epoch:49 train_loss:0.030 val_loss:0.028 time:0.274\n"
     ]
    }
   ],
   "source": [
    "# Simplest version of TADRED, modifying the most important hyperparameters.\n",
    "# The decreasing subset sizes are hard-coded so final optimized protocol is 1/(2^n_iterations_tadred) the size of the superdesign\n",
    "# Whilst you can play around with the subset size reduction pattern, halving the \n",
    "# size of the subset sizes at each TADRED step seems to generally work well.\n",
    "\n",
    "args = utils.load_base_args()\n",
    "\n",
    "# Set decreasing subset sizes\n",
    "args.tadred_train_eval.feature_set_sizes_Ci = [Vbar // (2**i) for i in range(n_iterations_tadred)]\n",
    "args.tadred_train_eval.feature_set_sizes_evaluated = [Vbar // (2**i) for i in range(1, n_iterations_tadred)]\n",
    "\n",
    "# Scoring net Vbar -> num_units_score[0] -> num_units_score[1] ... -> Vbar units\n",
    "args.network.num_units_score: list[int] = [1000, 1000]\n",
    "\n",
    "# Task net Vbar -> num_units_task[0] -> num_units_task[1] ... -> M units\n",
    "args.network.num_units_task: list[int] = [1000, 1000]\n",
    "\n",
    "# SBB TODO add Pathlib option to tadred.utils.py:create_out_dirs\n",
    "args.output.out_base = str(out_base)  # \"/Users/paddyslator/python/ED_MRI/test1\" #\"/home/blumberg/Bureau/z_Automated_Measurement/Output/paddy\"\n",
    "args.output.proj_name = str(proj_name)\n",
    "args.output.run_name = \"test\"\n",
    "args.other_options.save_output = True\n",
    "\n",
    "#print(args)\n",
    "\n",
    "args.tadred_train_eval.epochs = 50\n",
    "\n",
    "print(out_base, proj_name)\n",
    "\n",
    "TADRED_output = tadred_main.run(args, data)\n"
   ]
  },
  {
   "cell_type": "markdown",
   "metadata": {},
   "source": [
    "### Cell 9: Option to load saved TADRED results"
   ]
  },
  {
   "cell_type": "code",
   "execution_count": 9,
   "metadata": {},
   "outputs": [],
   "source": [
    "# We can also load the saved results here\n",
    "# TADRED_output = np.load(\n",
    "#     Path(\n",
    "#         proj_dir,\n",
    "#         \"results\",\n",
    "#         args.output.run_name + \"_all.npy\",\n",
    "#     ),\n",
    "#     allow_pickle=True,\n",
    "# ).item()\n"
   ]
  },
  {
   "cell_type": "markdown",
   "metadata": {},
   "source": [
    "### Cell 10: Extract important TADRED output parameters\n",
    "* acq_params_tadred_index gives the indices of the superdesign acquisition that were chosed in the final optimized acquisition protocol.\n",
    "* acq_params_tadred are the corresponding acquisition parameters for these indices."
   ]
  },
  {
   "cell_type": "code",
   "execution_count": 10,
   "metadata": {},
   "outputs": [
    {
     "name": "stdout",
     "output_type": "stream",
     "text": [
      "TADRED chosen acquisition parameters are: [2.82539185 2.93354232 3.0200627  3.10658307 3.14984326 3.34451411\n",
      " 3.43103448 3.47429467 3.51755486 3.58244514 3.60407524 3.88526646\n",
      " 4.20971787 4.31786834 4.38275862 4.8369906  4.92351097 4.96677116\n",
      " 5.48589342 5.9184953 ]\n"
     ]
    }
   ],
   "source": [
    "# Extract some useful parameters fom the tadred output\n",
    "# final subset index\n",
    "V_last = TADRED_output[\"args\"][\"tadred_train_eval\"][\"feature_set_sizes_Ci\"][-1] # V_{T} in paper\n",
    "\n",
    "# Index of chosen acquisition parameters\n",
    "acq_params_tadred_index = TADRED_output[V_last][\"measurements\"]\n",
    "\n",
    "# Chosen acquisition parameters\n",
    "acq_params_tadred = acq_params_super[acq_params_tadred_index]\n",
    "\n",
    "print(f\"TADRED chosen acquisition parameters are: {acq_params_tadred}\")"
   ]
  },
  {
   "cell_type": "markdown",
   "metadata": {},
   "source": [
    "### Cell 11: Plot highlighting the chosen acquisition parameters"
   ]
  },
  {
   "cell_type": "code",
   "execution_count": 11,
   "metadata": {},
   "outputs": [
    {
     "data": {
      "text/plain": [
       "Text(0.5, 0, 'acquisition parameter')"
      ]
     },
     "execution_count": 11,
     "metadata": {},
     "output_type": "execute_result"
    },
    {
     "data": {
      "image/png": "[encoded data removed]",
      "text/plain": [
       "<Figure size 640x480 with 1 Axes>"
      ]
     },
     "metadata": {},
     "output_type": "display_data"
    }
   ],
   "source": [
    "#plot the signals for the super design and the tadred acquisition for a single voxel\n",
    "\n",
    "#if the number of acquisition parameters is bigger than one, need to choose which one to plot on the x axis\n",
    "if (acq_params_super.ndim > 1): \n",
    "    if (acq_params_super.shape[1] > 1):\n",
    "        acq_param_to_plot = 1\n",
    "        acq_params_super_to_plot = acq_params_super[:,acq_param_to_plot]\n",
    "        acq_params_tadred_to_plot = acq_params_tadred[:,acq_param_to_plot]\n",
    "        acq_params_tadred_index_to_plot = acq_params_tadred_index[:,acq_param_to_plot]\n",
    "else:\n",
    "    acq_params_super_to_plot = acq_params_super\n",
    "    acq_params_tadred_to_plot = acq_params_tadred\n",
    "    acq_params_tadred_index_to_plot = acq_params_tadred_index\n",
    "    \n",
    "voxel_to_plot = 0\n",
    "\n",
    "\n",
    "plt.plot(acq_params_super_to_plot, signals_super[voxel_to_plot,:], 'x')\n",
    "plt.plot(acq_params_tadred_to_plot, signals_super[voxel_to_plot,acq_params_tadred_index], 'o')\n",
    "\n",
    "plt.title('signals from voxel ' + str(voxel_to_plot))\n",
    "plt.legend(('Super design', 'TADRED chosen'))\n",
    "plt.ylabel('signal')\n",
    "plt.xlabel('acquisition parameter')"
   ]
  },
  {
   "cell_type": "markdown",
   "metadata": {},
   "source": [
    "### Cell 12: Save the chosen acquisition parameters"
   ]
  },
  {
   "cell_type": "code",
   "execution_count": 12,
   "metadata": {},
   "outputs": [],
   "source": [
    "# save TADRED acquisition parameters\n",
    "np.save(Path(proj_dir, \"acq_params_tadred.npy\"), acq_params_tadred)"
   ]
  }
 ],
 "metadata": {
  "kernelspec": {
   "display_name": "Python 3 (ipykernel)",
   "language": "python",
   "name": "python3"
  },
  "language_info": {
   "codemirror_mode": {
    "name": "ipython",
    "version": 3
   },
   "file_extension": ".py",
   "mimetype": "text/x-python",
   "name": "python",
   "nbconvert_exporter": "python",
   "pygments_lexer": "ipython3",
   "version": "3.10.6"
  },
  "vscode": {
   "interpreter": {
    "hash": "615b1a4c774898c50e50cbbdb62428ce29922c4c76c6af0df5092a4f94b8ccac"
   }
  }
 },
 "nbformat": 4,
 "nbformat_minor": 4
}
