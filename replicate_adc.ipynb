{
 "cells": [
  {
   "cell_type": "markdown",
   "metadata": {},
   "source": [
    "\"\"\"\n",
    "(c) Stefano B. Blumberg and Paddy J. Slator, do not redistribute or modify\n",
    "\n",
    "Code to replicate the ADC experiment (alongside matlab code - maybe translate to python?) <Add paper link>\n",
    "\n",
    "Overview for cells:\n",
    "    - Choose data size splits 2\n",
    "    - Generate data examples 3-A/B/C\n",
    "    - Data format for JOFSTO 4\n",
    "    - Option to pass data directly, or save to disk and load 5-A/B\n",
    "    - JOFSTO hyperparameters 6,7,8\n",
    "    - Data normalization 9\n",
    "\"\"\"\n"
   ]
  },
  {
   "cell_type": "code",
   "execution_count": null,
   "metadata": {},
   "outputs": [],
   "source": [
    "########## (1)\n",
    "# Import modules, see requirements.txt for jofsto requirements, set global seed\n",
    "\n",
    "import numpy as np\n",
    "from jofsto_code.jofsto_main import return_argparser, run\n",
    "\n",
    "import matplotlib.pyplot as plt\n",
    "\n",
    "np.random.seed(0)  # Random seed for entire script"
   ]
  },
  {
   "cell_type": "code",
   "execution_count": null,
   "metadata": {},
   "outputs": [],
   "source": [
    "#Directories and filenames to save data"
   ]
  },
  {
   "cell_type": "code",
   "execution_count": null,
   "metadata": {},
   "outputs": [],
   "source": [
    "########## (2)\n",
    "# Data split sizes\n",
    "\n",
    "n_train = 1000  # No. training voxels, reduce for faster training speed\n",
    "n_val = n_train // 10  # No. validations set voxels\n",
    "n_test = n_train // 10  # No. test set voxels"
   ]
  },
  {
   "cell_type": "code",
   "execution_count": null,
   "metadata": {},
   "outputs": [],
   "source": [
    "########## (3-A)\n",
    "# Create dummy, randomly generated (positive) data\n",
    "\n",
    "# C_bar = 220\n",
    "# M = 12  # Number of input measurements \\bar{C}, Target regressors\n",
    "# rand = np.random.lognormal  # Random genenerates positive\n",
    "# train_inp, train_tar = rand(size=(n_train, C_bar)), rand(size=(n_train, M))\n",
    "# val_inp, val_tar = rand(size=(n_val, C_bar)), rand(size=(n_val, M))\n",
    "# test_inp, test_tar = rand(size=(n_test, C_bar)), rand(size=(n_test, M))\n",
    "\n",
    "\n",
    "# #########\n",
    "# #Generate data using an ADC model\n",
    "maxb = 5000\n",
    "minb = 0\n",
    "nb = 192\n",
    "\n",
    "C_bar = nb\n",
    "\n",
    "bvals = np.linspace(minb,maxb,nb)\n",
    "\n",
    "def adc(D,bvals):\n",
    "    signals = np.exp(-bvals*D)\n",
    "    return signals\n",
    "\n",
    "n_samples = n_train + n_val + n_test\n",
    "minD = 0.0001\n",
    "maxD = 0.003\n",
    "parameters = np.random.uniform(low=minD,high=maxD,size=n_samples)\n",
    "\n",
    "signals = np.zeros((n_samples,nb),dtype = np.float32)\n",
    "for i in range(0,n_samples):\n",
    "    signals[i,:] = adc(parameters[i],bvals)\n",
    "\n"
   ]
  },
  {
   "cell_type": "code",
   "execution_count": null,
   "metadata": {},
   "outputs": [],
   "source": [
    "#add noise\n",
    "def add_noise(data, scale=0.02):\n",
    "    data_real = data + np.random.normal(scale=scale, size=np.shape(data))\n",
    "    data_imag = np.random.normal(scale=scale, size=np.shape(data))\n",
    "    data_noisy = np.sqrt(data_real**2 + data_imag**2)\n",
    "\n",
    "    return data_noisy\n",
    "\n",
    "signals = add_noise(signals)\n",
    "\n"
   ]
  },
  {
   "cell_type": "code",
   "execution_count": null,
   "metadata": {},
   "outputs": [],
   "source": [
    "#split signals/params into train/test/val - don't need to randomise as the parameters are already randomised\n",
    "train_signals = signals[0:n_train,:]\n",
    "val_signals = signals[n_train:(n_train + n_val),:]\n",
    "test_signals = signals[(n_train + n_val):(n_train + n_val + n_test),:]\n",
    "\n",
    "train_parameters = signals[0:n_train,:]\n",
    "val_parameters = signals[n_train:(n_train + n_val),:]\n",
    "test_parameters = signals[(n_train + n_val):(n_train + n_val + n_test),:]\n",
    "\n",
    "train_inp = train_signals\n",
    "train_tar = train_parameters\n",
    "val_inp = val_signals\n",
    "val_tar = val_parameters\n",
    "test_inp = test_signals\n",
    "test_tar = test_parameters\n"
   ]
  },
  {
   "cell_type": "code",
   "execution_count": null,
   "metadata": {},
   "outputs": [],
   "source": [
    "########## (4)\n",
    "# Load data into JOFSTO format\n",
    "\n",
    "# Data in JOFSTO format, \\bar{C} measurements, M target regresors\n",
    "data = dict(\n",
    "    train=train_inp,  # Shape n_train x \\bar{C}\n",
    "    train_tar=train_tar,  # Shape n_train x M\n",
    "    val=val_inp,  # Shape n_val x \\bar{C}\n",
    "    val_tar=val_tar,  # Shape n_val x M\n",
    "    test=test_inp,  # Shape n_test x \\bar{C}\n",
    "    test_tar=test_tar,  # Shape n_test x M\n",
    ")\n",
    "\n",
    "#with open(os.path.dirname(__file__) + \"/base.yaml\", \"r\") as f:\n",
    "with open(\"/home/blumberg/Bureau/z_Automated_Measurement/Code/base.yaml\", \"r\") as f:\n",
    "    jofsto_args =  yaml.safe_load(f)"
   ]
  },
  {
   "cell_type": "code",
   "execution_count": null,
   "metadata": {},
   "outputs": [],
   "source": []
  },
  {
   "cell_type": "code",
   "execution_count": null,
   "metadata": {},
   "outputs": [],
   "source": [
    "########## (5-A)\n",
    "# Option to save data to disk, and JOFSTO load\n",
    "\n",
    "data_fil = \"/Users/paddyslator/python/ED_MRI/adc_simulations.npy\"  # Add path to save file\n",
    "np.save(data_fil, data)\n",
    "print(\"Saving data as\", data_fil)\n",
    "pass_data = None\n",
    "jofsto_args.extend([\"--data_fil\", data_fil])\n",
    "\n",
    "\n",
    "########## (5-B)\n",
    "# Option to pass data to JOFSTO directly\n",
    "\n",
    "pass_data = data"
   ]
  },
  {
   "cell_type": "code",
   "execution_count": null,
   "metadata": {},
   "outputs": [],
   "source": [
    "########## (6)\n",
    "# Simplest version of JOFSTO, modifying the most important hyperparameters\n",
    "\n",
    "\n",
    "# Decreasing feature subsets sizes for JOFSTO to consider\n",
    "C_i_values = [C_bar, C_bar // 2, C_bar // 4, C_bar // 8, C_bar // 16]\n",
    "C_i_values = [C_bar, C_bar // 2, C_bar // 4, C_bar // 8, C_bar // 16]\n",
    "jofsto_args.extend([\"--C_i_values\"] + [str(val) for val in C_i_values])\n",
    "\n",
    "# Feature subset sizess for JOFSTO evaluated on test data\n",
    "C_i_eval = [C_bar // 2, C_bar // 4, C_bar // 8, C_bar // 16]\n",
    "jofsto_args.extend([\"--C_i_eval\"] + [str(val) for val in C_i_eval])\n",
    "\n",
    "# Scoring net C_bar -> num_units_score[0] -> num_units_score[1] ... -> C_bar units\n",
    "num_units_score = [1000, 1000]\n",
    "jofsto_args.extend([\"--num_units_score\"] + [str(val) for val in num_units_score])\n",
    "\n",
    "# Task net C_bar -> num_units_task[0] -> num_units_task[1] ... -> M units\n",
    "num_units_task = [1000, 1000]\n",
    "jofsto_args.extend([\"--num_units_task\"] + [str(val) for val in num_units_task])\n",
    "\n",
    "jofsto_args.extend([\"--out_base\", \"/Users/paddyslator/python/ED_MRI/test1\"])\n",
    "jofsto_args.extend([\"--proj_name\", \"adc\"])\n",
    "jofsto_args.extend([\"--run_name\", \"test\"])\n",
    "\n",
    "\n",
    "args = parser.parse_args(jofsto_args)\n",
    "run(args=args, pass_data=pass_data)\n"
   ]
  },
  {
   "cell_type": "code",
   "execution_count": null,
   "metadata": {},
   "outputs": [],
   "source": [
    "#load the JOFSTO output\n",
    "JOFTSO_output = np.load(\"/Users/paddyslator/python/ED_MRI/test1/adc/results/test_all.npy\", allow_pickle=True).item()"
   ]
  },
  {
   "cell_type": "code",
   "execution_count": null,
   "metadata": {},
   "outputs": [],
   "source": [
    "#load the CRLB optimised protocol\n",
    "import scipy.io as sio\n",
    "CRLB_ADC = sio.loadmat('/Users/paddyslator/MATLAB/adc_crlb/crlb_adc_optimised_protocol.mat')\n",
    "bvals_CRLB_ADC = np.squeeze(CRLB_ADC['b_opt'])\n",
    "#scale them\n",
    "bvals_CRLB_ADC = bvals_CRLB_ADC * 1e3"
   ]
  },
  {
   "cell_type": "code",
   "execution_count": null,
   "metadata": {},
   "outputs": [],
   "source": [
    "#plot the JOFSTO and CRLB b-values\n",
    "#all super-design b-values\n",
    "plt.plot(bvals,adc(0.001,bvals),'o')\n",
    "#JOFSTO chosen b-values\n",
    "plt.plot(bvals[JOFTSO_output[C_i_values[-1]]['measurements']],adc(0.001,bvals[JOFTSO_output[C_i_values[-1]]['measurements']]),'x')\n",
    "#CRLB chosen b-values\n",
    "plt.plot(bvals_CRLB_ADC,adc(0.001,bvals_CRLB_ADC),'o')\n"
   ]
  },
  {
   "cell_type": "code",
   "execution_count": null,
   "metadata": {},
   "outputs": [],
   "source": [
    "#results[12][\"test_output\"][0,]\n",
    "test_parameters.shape\n",
    "#test_signals.shape"
   ]
  },
  {
   "cell_type": "code",
   "execution_count": null,
   "metadata": {},
   "outputs": [],
   "source": [
    "#JOFSTO_output[12][\"test_output\"].shape\n",
    "#test_tar.shape\n",
    "test_tar[:,0].shape\n",
    "np.corrcoef(test_tar[:,0],JOFSTO_output[12][\"test_output\"][:,0])"
   ]
  },
  {
   "cell_type": "code",
   "execution_count": null,
   "metadata": {},
   "outputs": [],
   "source": [
    "from scipy.optimize import minimize\n",
    "\n",
    "#fit the ADC model on the full acquisition, JOFSTO acquisition, CRLB acquisition\n",
    "\n",
    "#simulate data for each acquisition\n",
    "signals_crlb = np.zeros((n_samples,len(bvals_CRLB_ADC)))\n",
    "signals_super = np.zeros((n_samples,len(bvals)))\n",
    "signals_jofsto = np.zeros((n_samples,len(bvals[JOFTSO_output[C_i_values[-1]]['measurements']])))\n",
    "\n",
    "#simulate some new parameters\n",
    "parameters = np.random.uniform(low=minD,high=maxD,size=n_samples)\n",
    "\n",
    "for i in range(0,n_samples):\n",
    "    signals_crlb[i,:] = add_noise(adc(parameters[i],bvals_CRLB_ADC),scale=0.1)\n",
    "    signals_super[i,:] = add_noise(adc(parameters[i],bvals),scale=0.1)\n",
    "    signals_jofsto[i,:] = add_noise(adc(parameters[i],bvals[JOFTSO_output[C_i_values[-1]]['measurements']]),scale=0.1)\n",
    "    \n",
    "\n",
    "def objective_function(D,bvals,signals):\n",
    "    return np.mean((signals - adc(D,bvals))**2)\n",
    "    \n",
    "    \n",
    "# def adc(D,bvals):\n",
    "#     signals = np.exp(-bvals*D)\n",
    "#     return signals\n",
    "\n",
    "Dstart = 0.001\n",
    "\n",
    "fitted_parameters_crlb = np.zeros(n_samples)\n",
    "fitted_parameters_super = np.zeros(n_samples)\n",
    "fitted_parameters_jofsto = np.zeros(n_samples)\n",
    "\n",
    "for i in range(0,n_samples):\n",
    "    fitted_parameters_crlb[i] = minimize(objective_function, Dstart, args=(bvals_CRLB_ADC,signals_crlb[i,:]),method='Nelder-Mead').x\n",
    "    fitted_parameters_super[i] = minimize(objective_function, Dstart, args=(bvals,signals_super[i,:]),method='Nelder-Mead').x\n",
    "    fitted_parameters_jofsto[i] = minimize(objective_function, Dstart, args=(bvals[JOFTSO_output[C_i_values[-1]]['measurements']],signals_jofsto[i,:]),method='Nelder-Mead').x\n",
    "\n",
    "\n",
    "\n"
   ]
  },
  {
   "cell_type": "code",
   "execution_count": null,
   "metadata": {},
   "outputs": [],
   "source": [
    "plt.plot(parameters,fitted_parameters_crlb,'o',markersize=1)\n",
    "plt.plot(parameters,fitted_parameters_super,'v',markersize=1)\n",
    "plt.plot(parameters,fitted_parameters_jofsto,'x',markersize=1)\n",
    "\n",
    "print(\"CRLB correlation: \" + str(np.corrcoef(parameters,fitted_parameters_crlb)[0,1]))\n",
    "print(\"super correlation \" + str(np.corrcoef(parameters,fitted_parameters_super)[0,1]))\n",
    "print(\"JOFSTO correlation \" + str(np.corrcoef(parameters,fitted_parameters_jofsto)[0,1]))\n",
    "\n",
    "\n"
   ]
  },
  {
   "cell_type": "code",
   "execution_count": null,
   "metadata": {},
   "outputs": [],
   "source": [
    "np.corrcoef(parameters,fitted_parameters_crlb)[0,1]"
   ]
  },
  {
   "cell_type": "code",
   "execution_count": null,
   "metadata": {},
   "outputs": [],
   "source": [
    "i=10 \n",
    "\n",
    "thing = minimize(objective_function, Dstart, args=(bvals_CRLB_ADC,signals_crlb[i,:]),method='Nelder-Mead').x\n",
    "\n",
    "plt.plot(bvals_CRLB_ADC,  signals_crlb[i,:])\n",
    "plt.plot(bvals_CRLB_ADC,adc(parameters[i],bvals_CRLB_ADC),'o')\n",
    "plt.plot(bvals_CRLB_ADC,adc(fitted_parameters_crlb[i],bvals_CRLB_ADC),'x')\n",
    "\n",
    "def objective_function(D,bvals,signals):\n",
    "    print(signals)\n",
    "    print(adc(D,bvals))\n",
    "    return np.mean((signals - adc(D,bvals))**2)\n",
    "\n",
    "print('ground truth: ' + str(parameters[i]))\n",
    "print('fitted: ' + str(fitted_parameters_crlb[i]))\n",
    "\n",
    "objective_function(fitted_parameters_crlb[i],bvals_CRLB_ADC,signals_crlb[i,:])"
   ]
  },
  {
   "cell_type": "code",
   "execution_count": null,
   "metadata": {},
   "outputs": [],
   "source": [
    "bvals[JOFTSO_output[C_i_values[-1]]['measurements']]"
   ]
  },
  {
   "cell_type": "code",
   "execution_count": null,
   "metadata": {},
   "outputs": [],
   "source": [
    "########## (7)\n",
    "# Modify more JOFSTO hyperparameters, less important, may change results\n",
    "\n",
    "# Fix score after epoch, E_1 in paper\n",
    "epochs_fix_sigma = 25\n",
    "jofsto_args.extend([\"--epochs_fix_sigma\", str(epochs_fix_sigma)])\n",
    "\n",
    "# Progressively set score to be sample independent across no. epochs, E_2 - E_1 in paper\n",
    "epochs_decay_sigma = 10\n",
    "jofsto_args.extend([\"--epochs_decay_sigma\", str(epochs_decay_sigma)])\n",
    "\n",
    "# Progressively modify mask across number epochs, E_3 - E_2 in paper\n",
    "epochs_decay = 10\n",
    "jofsto_args.extend([\"--epochs_decay\", str(epochs_decay)])\n",
    "\n",
    "args = parser.parse_args(jofsto_args)\n",
    "run(args=args, pass_data=pass_data)"
   ]
  },
  {
   "cell_type": "code",
   "execution_count": null,
   "metadata": {},
   "outputs": [],
   "source": [
    "\n",
    "########## (8)\n",
    "# Deep learning training hyperparameters for inner loop\n",
    "\n",
    "# Training epochs per step, set large to trigger early stopping\n",
    "total_epochs = 10000\n",
    "jofsto_args.extend([\"--total_epochs\", str(total_epochs)])\n",
    "\n",
    "# Training learning rate\n",
    "learning_rate = 0.0001\n",
    "jofsto_args.extend([\"--learning_rate\", str(learning_rate)])\n",
    "\n",
    "# Training batch size\n",
    "batch_size = 1500\n",
    "jofsto_args.extend([\"--batch_size\", str(batch_size)])\n",
    "\n",
    "args = parser.parse_args(jofsto_args)\n",
    "run(args=args, pass_data=pass_data)\n"
   ]
  },
  {
   "cell_type": "code",
   "execution_count": null,
   "metadata": {},
   "outputs": [],
   "source": [
    "thing = np.load('.npy',allow_pickle=True)"
   ]
  },
  {
   "cell_type": "code",
   "execution_count": null,
   "metadata": {},
   "outputs": [],
   "source": [
    "thing.item().keys()"
   ]
  },
  {
   "cell_type": "code",
   "execution_count": null,
   "metadata": {},
   "outputs": [],
   "source": [
    "    \n",
    "    \n",
    "    "
   ]
  }
 ],
 "metadata": {
  "kernelspec": {
   "display_name": "ED_MRI_env",
   "language": "python",
   "name": "python3"
  },
  "language_info": {
   "codemirror_mode": {
    "name": "ipython",
    "version": 3
   },
   "file_extension": ".py",
   "mimetype": "text/x-python",
   "name": "python",
   "nbconvert_exporter": "python",
   "pygments_lexer": "ipython3",
   "version": "3.6.8"
  },
  "orig_nbformat": 4,
  "vscode": {
   "interpreter": {
    "hash": "615b1a4c774898c50e50cbbdb62428ce29922c4c76c6af0df5092a4f94b8ccac"
   }
  }
 },
 "nbformat": 4,
 "nbformat_minor": 2
}
