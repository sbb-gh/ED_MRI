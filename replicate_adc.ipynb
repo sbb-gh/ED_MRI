{
 "cells": [
  {
   "cell_type": "code",
   "execution_count": null,
   "metadata": {},
   "outputs": [],
   "source": [
    "# TODOS\n",
    "# Add Rician objective function for LSQ fitting.\n",
    "# rewrite for experiment"
   ]
  },
  {
   "cell_type": "markdown",
   "metadata": {},
   "source": [
    "\"\"\"\n",
    "(c) Stefano B. Blumberg and Paddy J. Slator, do not redistribute or modify\n",
    "\n",
    "Code to replicate the ADC experiment (alongside matlab code - maybe translate to python?) <Add paper link>\n",
    "\n",
    "Overview for cells:\n",
    "    - Choose data size splits 2\n",
    "    - Generate data examples 3-A/B/C\n",
    "    - Data format for JOFSTO 4\n",
    "    - Option to pass data directly, or save to disk and load 5-A/B\n",
    "    - JOFSTO hyperparameters 6,7,8\n",
    "\"\"\""
   ]
  },
  {
   "cell_type": "code",
   "execution_count": null,
   "metadata": {},
   "outputs": [],
   "source": [
    "########## (1)\n",
    "# Import modules, see requirements.txt for jofsto requirements, set global seed\n",
    "\n",
    "import numpy as np\n",
    "import os, yaml\n",
    "from jofsto_code.jofsto_main import return_argparser, run\n",
    "\n",
    "import matplotlib.pyplot as plt\n",
    "\n",
    "np.random.seed(0)  # Random seed for entire script"
   ]
  },
  {
   "cell_type": "code",
   "execution_count": null,
   "metadata": {},
   "outputs": [],
   "source": [
    "#Directories and filenames to save data (Replace with location of JOFSTO code - possible to get this automatically?)\n",
    "basedir = '/Users/paddyslator/python/ED_MRI/'"
   ]
  },
  {
   "cell_type": "code",
   "execution_count": null,
   "metadata": {},
   "outputs": [],
   "source": [
    "########## (2)\n",
    "# Data split sizes\n",
    "\n",
    "n_train = 1000  # No. training voxels, reduce for faster training speed\n",
    "n_val = n_train // 10  # No. validations set voxels\n",
    "n_test = n_train // 10  # No. test set voxels"
   ]
  },
  {
   "cell_type": "code",
   "execution_count": null,
   "metadata": {},
   "outputs": [],
   "source": [
    "########## (3-A)\n",
    "# Create dummy, randomly generated (positive) data\n",
    "\n",
    "# C_bar = 220\n",
    "# M = 12  # Number of input measurements \\bar{C}, Target regressors\n",
    "# rand = np.random.lognormal  # Random genenerates positive\n",
    "# train_inp, train_tar = rand(size=(n_train, C_bar)), rand(size=(n_train, M))\n",
    "# val_inp, val_tar = rand(size=(n_val, C_bar)), rand(size=(n_val, M))\n",
    "# test_inp, test_tar = rand(size=(n_test, C_bar)), rand(size=(n_test, M))\n",
    "\n",
    "\n",
    "# #########\n",
    "# #Generate data using an ADC model\n",
    "maxb = 5\n",
    "minb = 0\n",
    "nb = 192\n",
    "\n",
    "C_bar = nb\n",
    "\n",
    "bvals = np.linspace(minb,maxb,nb)\n",
    "\n",
    "def adc(D,bvals):\n",
    "    signals = np.exp(-bvals*D)\n",
    "    return signals\n",
    "\n",
    "n_samples = n_train + n_val + n_test\n",
    "minD = 0.1\n",
    "maxD = 3\n",
    "parameters = np.random.uniform(low=minD,high=maxD,size=(n_samples,1))\n",
    "\n",
    "signals = np.zeros((n_samples,nb),dtype = np.float32)\n",
    "for i in range(0,n_samples):\n",
    "    signals[i,:] = adc(parameters[i],bvals)\n",
    "\n"
   ]
  },
  {
   "cell_type": "code",
   "execution_count": null,
   "metadata": {},
   "outputs": [],
   "source": [
    "#add noise\n",
    "def add_noise(data, scale=0.1):\n",
    "    data_real = data + np.random.normal(scale=scale, size=np.shape(data))\n",
    "    data_imag = np.random.normal(scale=scale, size=np.shape(data))\n",
    "    data_noisy = np.sqrt(data_real**2 + data_imag**2)\n",
    "\n",
    "    return data_noisy\n",
    "\n",
    "signals = add_noise(signals)\n",
    "\n"
   ]
  },
  {
   "cell_type": "code",
   "execution_count": null,
   "metadata": {},
   "outputs": [],
   "source": [
    "########## (4)\n",
    "# Load data into JOFSTO format\n",
    "\n",
    "# Data in JOFSTO format, \\bar{C} measurements, M target regresors\n",
    "data = dict(\n",
    "    train=signals[0:n_train,:],  # Shape n_train x \\bar{C}\n",
    "    train_tar=parameters[0:n_train,:],  # Shape n_train x M\n",
    "    val=signals[n_train:(n_train + n_val),:],  # Shape n_val x \\bar{C}\n",
    "    val_tar=parameters[n_train:(n_train + n_val),:],  # Shape n_val x M\n",
    "    test=signals[(n_train + n_val):(n_train + n_val + n_test),:],  # Shape n_test x \\bar{C}\n",
    "    test_tar=parameters[(n_train + n_val):(n_train + n_val + n_test),:],  # Shape n_test x M\n",
    ")\n",
    "\n",
    "#with open(os.path.dirname(__file__) + \"/base.yaml\", \"r\") as f:\n",
    "#with open(\"/home/blumberg/Bureau/z_Automated_Measurement/Code/base.yaml\", \"r\") as f:\n",
    "with open(os.path.join(basedir, \"base.yaml\"), \"r\") as f:\n",
    "    args =  yaml.safe_load(f)"
   ]
  },
  {
   "cell_type": "code",
   "execution_count": null,
   "metadata": {},
   "outputs": [],
   "source": [
    "                        ########## (5-A)\n",
    "# Option to save data to disk, and JOFSTO load\n",
    "data_fil = os.path.join(basedir,'adc_simulations.npy')\n",
    "#data_fil = \"/home/blumberg/Bureau/z_Automated_Measurement/Output/paddy/adc_simulations.npy\"\n",
    "#data_fil = \"/Users/paddyslator/python/ED_MRI/adc_simulations.npy\"  # Add path to save file\n",
    "np.save(data_fil, data)\n",
    "print(\"Saving data as\", data_fil)\n",
    "pass_data = None\n",
    "\n",
    "args[\"--data_fil\"] = data_fil\n",
    "\n",
    "\n",
    "########## (5-B)\n",
    "# Option to pass data to JOFSTO directly\n",
    "\n",
    "pass_data = data"
   ]
  },
  {
   "cell_type": "code",
   "execution_count": null,
   "metadata": {},
   "outputs": [],
   "source": [
    "########## (6)\n",
    "# Simplest version of JOFSTO, modifying the most important hyperparameters\n",
    "\n",
    "\n",
    "# Decreasing feature subsets sizes for JOFSTO to consider\n",
    "args[\"C_i_values\"] = [C_bar, C_bar // 2, C_bar // 4, C_bar // 8, C_bar // 16]\n",
    "\n",
    "# Feature subset sizess for JOFSTO evaluated on test data\n",
    "args[\"C_i_eval\"] = [C_bar // 2, C_bar // 4, C_bar // 8, C_bar // 16]\n",
    "\n",
    "# Scoring net C_bar -> num_units_score[0] -> num_units_score[1] ... -> C_bar units\n",
    "args[\"num_units_score\"] = [1000, 1000]\n",
    "\n",
    "# Task net C_bar -> num_units_task[0] -> num_units_task[1] ... -> M units\n",
    "args[\"num_units_task\"] = [1000, 1000]\n",
    "\n",
    "args[\"out_base\"] =  os.path.join(basedir, \"test1\")  #\"/Users/paddyslator/python/ED_MRI/test1\" #\"/home/blumberg/Bureau/z_Automated_Measurement/Output/paddy\"\n",
    "args[\"proj_name\"] = \"adc\"\n",
    "args[\"run_name\"] = \"test\"\n",
    "\n",
    "args[\"save_output\"] = True\n",
    "\n",
    "#args[\"total_epochs\"] = 1000\n",
    "\n",
    "\n",
    "JOFSTO_output = run(args=args, pass_data=pass_data)\n"
   ]
  },
  {
   "cell_type": "code",
   "execution_count": null,
   "metadata": {},
   "outputs": [],
   "source": [
    "#import jofsto_code.utils.load_results as load_results\n",
    "#JOFSTO_output = np.load(os.path.join(basedir,args[\"out_base\"],args[\"proj_name\"],\"results\", args[\"run_name\"] + \"_all.npy\"), allow_pickle=True).item()"
   ]
  },
  {
   "cell_type": "code",
   "execution_count": null,
   "metadata": {},
   "outputs": [],
   "source": [
    "#load the CRLB optimised protocol\n",
    "#import scipy.io as sio\n",
    "#CRLB_ADC = sio.loadmat('/Users/paddyslator/MATLAB/adc_crlb/crlb_adc_optimised_protocol.mat')\n",
    "bvals_CRLB_ADC = np.loadtxt(os.path.join(basedir, \"crlb_code/crlb_adc_optimised_protocol.txt\"))\n",
    "#bvals_CRLB_ADC = np.squeeze(CRLB_ADC['b_opt'])\n"
   ]
  },
  {
   "cell_type": "code",
   "execution_count": null,
   "metadata": {},
   "outputs": [],
   "source": [
    "#plot the JOFSTO and CRLB b-values\n",
    "#all super-design b-values\n",
    "Dtest = 1\n",
    "plt.plot(bvals,adc(Dtest,bvals),'o')\n",
    "#JOFSTO chosen b-values\n",
    "C_last = JOFSTO_output[\"C_i_eval\"][-1]\n",
    "print(JOFSTO_output[C_last]['measurements'])\n",
    "plt.plot(bvals[JOFSTO_output[C_last]['measurements']],adc(Dtest,bvals[JOFSTO_output[C_last]['measurements']]),'x')\n",
    "\n",
    "#CRLB chosen b-values\n",
    "plt.plot(bvals_CRLB_ADC,adc(Dtest,bvals_CRLB_ADC),'o')\n"
   ]
  },
  {
   "cell_type": "code",
   "execution_count": null,
   "metadata": {},
   "outputs": [],
   "source": [
    "#JOFSTO_output[12][\"test_output\"].shape\n",
    "#test_tar.shape\n",
    "test_tar = data[\"test_tar\"][:,0]\n",
    "np.corrcoef(test_tar,JOFSTO_output[12][\"test_output\"][:,0])"
   ]
  },
  {
   "cell_type": "code",
   "execution_count": null,
   "metadata": {},
   "outputs": [],
   "source": [
    "from scipy.optimize import minimize\n",
    "\n",
    "#fit the ADC model on the full acquisition, JOFSTO acquisition, CRLB acquisition\n",
    "\n",
    "#for the super design use the test data signals \n",
    "signals_super = signals[(n_train + n_val):(n_train + n_val + n_test),:]\n",
    "#for jofsto use the reconstructed data\n",
    "signals_jofsto = signals[(n_train + n_val):(n_train + n_val + n_test),JOFSTO_output[C_last]['measurements']] \n",
    "\n",
    "\n",
    "\n",
    "#simulate data for the CRLB acquisition - as don't have test data at these b-values\n",
    "signals_crlb = np.zeros((n_samples,len(bvals_CRLB_ADC)))\n",
    "\n",
    "#use the ground truth parameters from the test dataset\n",
    "parameters = test_tar\n",
    "\n",
    "#signals_super = np.zeros((n_samples,len(bvals)))\n",
    "#signals_jofsto = np.zeros((n_samples,len(bvals[JOFSTO_output[C_last]['measurements']])))\n",
    "\n",
    "#simulate some new parameters\n",
    "#parameters = np.random.uniform(low=minD,high=maxD,size=n_samples)\n",
    "\n",
    "\n",
    "for i in range(0,n_test):\n",
    "    signals_crlb[i,:] = add_noise(adc(parameters[i],bvals_CRLB_ADC),scale=0.1)\n",
    "#    signals_super[i,:] = add_noise(adc(parameters[i],bvals),scale=0.1)\n",
    "#    signals_jofsto[i,:] = add_noise(adc(parameters[i],bvals[JOFSTO_output[C_last]['measurements']]),scale=0.1)\n",
    "    \n",
    "\n",
    "def objective_function(D,bvals,signals):\n",
    "    return np.mean((signals - adc(D,bvals))**2)\n",
    "    \n",
    "    \n",
    "# def adc(D,bvals):\n",
    "#     signals = np.exp(-bvals*D)\n",
    "#     return signals\n",
    "\n",
    "Dstart = 1\n",
    "\n",
    "fitted_parameters_crlb = np.zeros(n_test)\n",
    "fitted_parameters_super = np.zeros(n_test)\n",
    "fitted_parameters_jofsto = np.zeros(n_test)\n",
    "\n",
    "for i in range(0,n_test):\n",
    "    fitted_parameters_crlb[i] = minimize(objective_function, Dstart, args=(bvals_CRLB_ADC,signals_crlb[i,:]),method='Nelder-Mead').x\n",
    "    fitted_parameters_super[i] = minimize(objective_function, Dstart, args=(bvals,signals_super[i,:]),method='Nelder-Mead').x\n",
    "    fitted_parameters_jofsto[i] = minimize(objective_function, Dstart, args=(bvals[JOFSTO_output[C_last]['measurements']],signals_jofsto[i,:]),method='Nelder-Mead').x"
   ]
  },
  {
   "cell_type": "code",
   "execution_count": null,
   "metadata": {},
   "outputs": [],
   "source": [
    "def mean_squared_error(x,y):\n",
    "    return ((x - y)**2).mean(axis=0)\n",
    "    \n",
    "\n",
    "plt.plot(parameters,fitted_parameters_crlb,'o',markersize=5)\n",
    "plt.plot(parameters,fitted_parameters_super,'v',markersize=5)\n",
    "plt.plot(parameters,fitted_parameters_jofsto,'x',markersize=10)\n",
    "plt.plot(test_tar,JOFSTO_output[12][\"test_output\"][:,0],'^')\n",
    "\n",
    "plt.plot((minD,maxD),(minD,maxD),'k',markersize=5)\n",
    "\n",
    "plt.xlabel('ground truth D ($\\mu$m$^2$s$^{-1}$)')\n",
    "plt.xlabel('predicted D ($\\mu$m$^2$s$^{-1}$)')\n",
    "\n",
    "print(\"CRLB correlation: \" + str(np.corrcoef(parameters,fitted_parameters_crlb)[0,1]))\n",
    "print(\"super correlation \" + str(np.corrcoef(parameters,fitted_parameters_super)[0,1]))\n",
    "print(\"JOFSTO LSQ correlation \" + str(np.corrcoef(parameters,fitted_parameters_jofsto)[0,1]))\n",
    "print(\"JOFSTO NN correlation \" + str(np.corrcoef(test_tar,JOFSTO_output[12][\"test_output\"][:,0])[0,1]))\n",
    "\n",
    "\n",
    "print(\"CRLB MSE: \" + str(mean_squared_error(parameters,fitted_parameters_crlb)))\n",
    "print(\"super MSE \" + str(mean_squared_error(parameters,fitted_parameters_super)))\n",
    "print(\"JOFSTO LSQ MSE \" + str(mean_squared_error(parameters,fitted_parameters_jofsto)))\n",
    "print(\"JOFSTO NN MSE \" + str(mean_squared_error(test_tar,JOFSTO_output[12][\"test_output\"][:,0])))\n",
    "\n",
    "\n"
   ]
  },
  {
   "cell_type": "code",
   "execution_count": null,
   "metadata": {},
   "outputs": [],
   "source": [
    "########## (7)\n",
    "# Modify more JOFSTO hyperparameters, less important, may change results"
   ]
  },
  {
   "cell_type": "code",
   "execution_count": null,
   "metadata": {},
   "outputs": [],
   "source": [
    "\n",
    "########## (8)\n",
    "# Deep learning training hyperparameters for inner loop"
   ]
  }
 ],
 "metadata": {
  "kernelspec": {
   "display_name": "Python 3",
   "language": "python",
   "name": "python3"
  },
  "language_info": {
   "codemirror_mode": {
    "name": "ipython",
    "version": 3
   },
   "file_extension": ".py",
   "mimetype": "text/x-python",
   "name": "python",
   "nbconvert_exporter": "python",
   "pygments_lexer": "ipython3",
   "version": "3.8.14"
  },
  "vscode": {
   "interpreter": {
    "hash": "615b1a4c774898c50e50cbbdb62428ce29922c4c76c6af0df5092a4f94b8ccac"
   }
  }
 },
 "nbformat": 4,
 "nbformat_minor": 2
}
